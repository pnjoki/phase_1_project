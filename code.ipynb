{
 "cells": [
  {
   "attachments": {},
   "cell_type": "markdown",
   "metadata": {},
   "source": [
    "Final Project Submission"
   ]
  },
  {
   "attachments": {},
   "cell_type": "markdown",
   "metadata": {},
   "source": [
    "Please fill out:"
   ]
  },
  {
   "attachments": {},
   "cell_type": "markdown",
   "metadata": {},
   "source": [
    "Student name: Paul Gitonga Njoki"
   ]
  },
  {
   "attachments": {},
   "cell_type": "markdown",
   "metadata": {},
   "source": [
    "Student pace: full time:"
   ]
  },
  {
   "attachments": {},
   "cell_type": "markdown",
   "metadata": {},
   "source": [
    "Scheduled project review date/time:"
   ]
  },
  {
   "attachments": {},
   "cell_type": "markdown",
   "metadata": {},
   "source": [
    "Instructor name:"
   ]
  },
  {
   "attachments": {},
   "cell_type": "markdown",
   "metadata": {},
   "source": [
    "Blog post URL:"
   ]
  },
  {
   "attachments": {},
   "cell_type": "markdown",
   "metadata": {},
   "source": [
    "BEST PERFORMING MOVIE ANALYSIS"
   ]
  },
  {
   "attachments": {},
   "cell_type": "markdown",
   "metadata": {},
   "source": [
    "Authored by Paul Gitonga Njoki"
   ]
  },
  {
   "attachments": {},
   "cell_type": "markdown",
   "metadata": {},
   "source": [
    "Overview\n",
    "\n",
    "Microsoft as a company wants to start on creating original video content but do not have enough knowledge about movie creation to move forward with their plan. Using data obtained from the Rotten Tomatoes and Box Office Mojo datasets for analysis, it helped in discovering patterns and relationships in the data in order to make better decisions and recommendations that Microsoft will use in order for them to venture into movie crteation."
   ]
  },
  {
   "attachments": {},
   "cell_type": "markdown",
   "metadata": {},
   "source": [
    "DATA UNDERSTANDING\n",
    "\n",
    "Data that is used for this task was obtained from movie websites. I chose to work with two data sets that is the Rotten Tomatoes and Box Office Mojo datasets. After importing the necessary libraries to be used, we then read the data and understand its structrute,data contained and cleaning it before we go ahead to analyzing them to give us efficient information about movies before making conclusions."
   ]
  },
  {
   "cell_type": "code",
   "execution_count": 1,
   "metadata": {},
   "outputs": [],
   "source": [
    "#loading Libraries\n",
    "import pandas as pd\n",
    "import numpy as np\n",
    "\n",
    "import seaborn as sns\n",
    "import matplotlib.pyplot as plt\n",
    "%matplotlib inline\n",
    "\n",
    "\n",
    "\n",
    "from scipy import stats\n",
    "from scipy.stats import norm"
   ]
  },
  {
   "attachments": {},
   "cell_type": "markdown",
   "metadata": {},
   "source": [
    "Rotten Tomatoes Data"
   ]
  },
  {
   "cell_type": "code",
   "execution_count": 2,
   "metadata": {},
   "outputs": [
    {
     "data": {
      "text/html": [
       "<div>\n",
       "<style scoped>\n",
       "    .dataframe tbody tr th:only-of-type {\n",
       "        vertical-align: middle;\n",
       "    }\n",
       "\n",
       "    .dataframe tbody tr th {\n",
       "        vertical-align: top;\n",
       "    }\n",
       "\n",
       "    .dataframe thead th {\n",
       "        text-align: right;\n",
       "    }\n",
       "</style>\n",
       "<table border=\"1\" class=\"dataframe\">\n",
       "  <thead>\n",
       "    <tr style=\"text-align: right;\">\n",
       "      <th></th>\n",
       "      <th>id</th>\n",
       "      <th>synopsis</th>\n",
       "      <th>rating</th>\n",
       "      <th>genre</th>\n",
       "      <th>director</th>\n",
       "      <th>writer</th>\n",
       "      <th>theater_date</th>\n",
       "      <th>dvd_date</th>\n",
       "      <th>currency</th>\n",
       "      <th>box_office</th>\n",
       "      <th>runtime</th>\n",
       "      <th>studio</th>\n",
       "    </tr>\n",
       "  </thead>\n",
       "  <tbody>\n",
       "    <tr>\n",
       "      <th>0</th>\n",
       "      <td>1</td>\n",
       "      <td>This gritty, fast-paced, and innovative police...</td>\n",
       "      <td>R</td>\n",
       "      <td>Action and Adventure|Classics|Drama</td>\n",
       "      <td>William Friedkin</td>\n",
       "      <td>Ernest Tidyman</td>\n",
       "      <td>Oct 9, 1971</td>\n",
       "      <td>Sep 25, 2001</td>\n",
       "      <td>NaN</td>\n",
       "      <td>NaN</td>\n",
       "      <td>104 minutes</td>\n",
       "      <td>NaN</td>\n",
       "    </tr>\n",
       "    <tr>\n",
       "      <th>1</th>\n",
       "      <td>3</td>\n",
       "      <td>New York City, not-too-distant-future: Eric Pa...</td>\n",
       "      <td>R</td>\n",
       "      <td>Drama|Science Fiction and Fantasy</td>\n",
       "      <td>David Cronenberg</td>\n",
       "      <td>David Cronenberg|Don DeLillo</td>\n",
       "      <td>Aug 17, 2012</td>\n",
       "      <td>Jan 1, 2013</td>\n",
       "      <td>$</td>\n",
       "      <td>600,000</td>\n",
       "      <td>108 minutes</td>\n",
       "      <td>Entertainment One</td>\n",
       "    </tr>\n",
       "    <tr>\n",
       "      <th>2</th>\n",
       "      <td>5</td>\n",
       "      <td>Illeana Douglas delivers a superb performance ...</td>\n",
       "      <td>R</td>\n",
       "      <td>Drama|Musical and Performing Arts</td>\n",
       "      <td>Allison Anders</td>\n",
       "      <td>Allison Anders</td>\n",
       "      <td>Sep 13, 1996</td>\n",
       "      <td>Apr 18, 2000</td>\n",
       "      <td>NaN</td>\n",
       "      <td>NaN</td>\n",
       "      <td>116 minutes</td>\n",
       "      <td>NaN</td>\n",
       "    </tr>\n",
       "    <tr>\n",
       "      <th>3</th>\n",
       "      <td>6</td>\n",
       "      <td>Michael Douglas runs afoul of a treacherous su...</td>\n",
       "      <td>R</td>\n",
       "      <td>Drama|Mystery and Suspense</td>\n",
       "      <td>Barry Levinson</td>\n",
       "      <td>Paul Attanasio|Michael Crichton</td>\n",
       "      <td>Dec 9, 1994</td>\n",
       "      <td>Aug 27, 1997</td>\n",
       "      <td>NaN</td>\n",
       "      <td>NaN</td>\n",
       "      <td>128 minutes</td>\n",
       "      <td>NaN</td>\n",
       "    </tr>\n",
       "    <tr>\n",
       "      <th>4</th>\n",
       "      <td>7</td>\n",
       "      <td>NaN</td>\n",
       "      <td>NR</td>\n",
       "      <td>Drama|Romance</td>\n",
       "      <td>Rodney Bennett</td>\n",
       "      <td>Giles Cooper</td>\n",
       "      <td>NaN</td>\n",
       "      <td>NaN</td>\n",
       "      <td>NaN</td>\n",
       "      <td>NaN</td>\n",
       "      <td>200 minutes</td>\n",
       "      <td>NaN</td>\n",
       "    </tr>\n",
       "  </tbody>\n",
       "</table>\n",
       "</div>"
      ],
      "text/plain": [
       "   id                                           synopsis rating   \n",
       "0   1  This gritty, fast-paced, and innovative police...      R  \\\n",
       "1   3  New York City, not-too-distant-future: Eric Pa...      R   \n",
       "2   5  Illeana Douglas delivers a superb performance ...      R   \n",
       "3   6  Michael Douglas runs afoul of a treacherous su...      R   \n",
       "4   7                                                NaN     NR   \n",
       "\n",
       "                                 genre          director   \n",
       "0  Action and Adventure|Classics|Drama  William Friedkin  \\\n",
       "1    Drama|Science Fiction and Fantasy  David Cronenberg   \n",
       "2    Drama|Musical and Performing Arts    Allison Anders   \n",
       "3           Drama|Mystery and Suspense    Barry Levinson   \n",
       "4                        Drama|Romance    Rodney Bennett   \n",
       "\n",
       "                            writer  theater_date      dvd_date currency   \n",
       "0                   Ernest Tidyman   Oct 9, 1971  Sep 25, 2001      NaN  \\\n",
       "1     David Cronenberg|Don DeLillo  Aug 17, 2012   Jan 1, 2013        $   \n",
       "2                   Allison Anders  Sep 13, 1996  Apr 18, 2000      NaN   \n",
       "3  Paul Attanasio|Michael Crichton   Dec 9, 1994  Aug 27, 1997      NaN   \n",
       "4                     Giles Cooper           NaN           NaN      NaN   \n",
       "\n",
       "  box_office      runtime             studio  \n",
       "0        NaN  104 minutes                NaN  \n",
       "1    600,000  108 minutes  Entertainment One  \n",
       "2        NaN  116 minutes                NaN  \n",
       "3        NaN  128 minutes                NaN  \n",
       "4        NaN  200 minutes                NaN  "
      ]
     },
     "execution_count": 2,
     "metadata": {},
     "output_type": "execute_result"
    }
   ],
   "source": [
    "#reading ROTTEN TOMATOES data from the tsv file\n",
    "rtmovie_df = pd.read_csv(\"C:/Users/hp/Documents/Moringa_project_phase_1/phase_1_project/learn-co-curriculum dsc-phase-1-project master zippedData/rt.movie_info.tsv.gz\", sep='\\t', header=0)\n",
    "rtmovie_df.head()"
   ]
  },
  {
   "cell_type": "code",
   "execution_count": 3,
   "metadata": {},
   "outputs": [],
   "source": [
    "#dropping unwanted columns\n",
    "rtmovie_df = rtmovie_df.drop(rtmovie_df.columns[0], axis='columns')"
   ]
  },
  {
   "cell_type": "code",
   "execution_count": 4,
   "metadata": {},
   "outputs": [
    {
     "data": {
      "text/plain": [
       "(1560, 11)"
      ]
     },
     "execution_count": 4,
     "metadata": {},
     "output_type": "execute_result"
    }
   ],
   "source": [
    "rtmovie_df.shape"
   ]
  },
  {
   "cell_type": "code",
   "execution_count": 5,
   "metadata": {},
   "outputs": [
    {
     "data": {
      "text/plain": [
       "Index(['synopsis', 'rating', 'genre', 'director', 'writer', 'theater_date',\n",
       "       'dvd_date', 'currency', 'box_office', 'runtime', 'studio'],\n",
       "      dtype='object')"
      ]
     },
     "execution_count": 5,
     "metadata": {},
     "output_type": "execute_result"
    }
   ],
   "source": [
    "#checking the columns in the dataframe\n",
    "\n",
    "rtmovie_df.columns"
   ]
  },
  {
   "cell_type": "code",
   "execution_count": 6,
   "metadata": {},
   "outputs": [
    {
     "name": "stdout",
     "output_type": "stream",
     "text": [
      "<class 'pandas.core.frame.DataFrame'>\n",
      "RangeIndex: 1560 entries, 0 to 1559\n",
      "Data columns (total 11 columns):\n",
      " #   Column        Non-Null Count  Dtype \n",
      "---  ------        --------------  ----- \n",
      " 0   synopsis      1498 non-null   object\n",
      " 1   rating        1557 non-null   object\n",
      " 2   genre         1552 non-null   object\n",
      " 3   director      1361 non-null   object\n",
      " 4   writer        1111 non-null   object\n",
      " 5   theater_date  1201 non-null   object\n",
      " 6   dvd_date      1201 non-null   object\n",
      " 7   currency      340 non-null    object\n",
      " 8   box_office    340 non-null    object\n",
      " 9   runtime       1530 non-null   object\n",
      " 10  studio        494 non-null    object\n",
      "dtypes: object(11)\n",
      "memory usage: 134.2+ KB\n"
     ]
    }
   ],
   "source": [
    "#getting the summary of rotten tomatoes dataframe\n",
    "\n",
    "rtmovie_df.info()"
   ]
  },
  {
   "cell_type": "code",
   "execution_count": 7,
   "metadata": {},
   "outputs": [
    {
     "data": {
      "text/plain": [
       "synopsis          62\n",
       "rating             3\n",
       "genre              8\n",
       "director         199\n",
       "writer           449\n",
       "theater_date     359\n",
       "dvd_date         359\n",
       "currency        1220\n",
       "box_office      1220\n",
       "runtime           30\n",
       "studio          1066\n",
       "dtype: int64"
      ]
     },
     "execution_count": 7,
     "metadata": {},
     "output_type": "execute_result"
    }
   ],
   "source": [
    "# Checking for null values\n",
    "\n",
    "rtmovie_df.isnull().sum()"
   ]
  },
  {
   "cell_type": "code",
   "execution_count": 8,
   "metadata": {},
   "outputs": [
    {
     "data": {
      "text/plain": [
       "genre\n",
       "Drama                                                                                     151\n",
       "Comedy                                                                                    110\n",
       "Comedy|Drama                                                                               80\n",
       "Drama|Mystery and Suspense                                                                 67\n",
       "Art House and International|Drama                                                          62\n",
       "                                                                                         ... \n",
       "Art House and International|Drama|Sports and Fitness                                        1\n",
       "Comedy|Documentary|Musical and Performing Arts|Special Interest                             1\n",
       "Comedy|Cult Movies|Mystery and Suspense|Science Fiction and Fantasy                         1\n",
       "Action and Adventure|Art House and International|Mystery and Suspense|Special Interest      1\n",
       "Comedy|Drama|Kids and Family|Sports and Fitness                                             1\n",
       "Name: count, Length: 299, dtype: int64"
      ]
     },
     "execution_count": 8,
     "metadata": {},
     "output_type": "execute_result"
    }
   ],
   "source": [
    "# obtaining counts for each value in genre column#\n",
    "\n",
    "rtmovie_df['genre'].value_counts()"
   ]
  },
  {
   "cell_type": "code",
   "execution_count": 9,
   "metadata": {},
   "outputs": [
    {
     "data": {
      "text/plain": [
       "count      1552\n",
       "unique      299\n",
       "top       Drama\n",
       "freq        151\n",
       "Name: genre, dtype: object"
      ]
     },
     "execution_count": 9,
     "metadata": {},
     "output_type": "execute_result"
    }
   ],
   "source": [
    "#obtaing descriptive statistics for the genre column to determine the top genre\n",
    "rtmovie_df['genre'].describe()"
   ]
  },
  {
   "attachments": {},
   "cell_type": "markdown",
   "metadata": {},
   "source": [
    "Data for Box Office Mojo"
   ]
  },
  {
   "cell_type": "code",
   "execution_count": 10,
   "metadata": {},
   "outputs": [
    {
     "data": {
      "text/html": [
       "<div>\n",
       "<style scoped>\n",
       "    .dataframe tbody tr th:only-of-type {\n",
       "        vertical-align: middle;\n",
       "    }\n",
       "\n",
       "    .dataframe tbody tr th {\n",
       "        vertical-align: top;\n",
       "    }\n",
       "\n",
       "    .dataframe thead th {\n",
       "        text-align: right;\n",
       "    }\n",
       "</style>\n",
       "<table border=\"1\" class=\"dataframe\">\n",
       "  <thead>\n",
       "    <tr style=\"text-align: right;\">\n",
       "      <th></th>\n",
       "      <th>title</th>\n",
       "      <th>studio</th>\n",
       "      <th>domestic_gross</th>\n",
       "      <th>foreign_gross</th>\n",
       "      <th>year</th>\n",
       "    </tr>\n",
       "  </thead>\n",
       "  <tbody>\n",
       "    <tr>\n",
       "      <th>0</th>\n",
       "      <td>Toy Story 3</td>\n",
       "      <td>BV</td>\n",
       "      <td>415000000.0</td>\n",
       "      <td>652000000</td>\n",
       "      <td>2010</td>\n",
       "    </tr>\n",
       "    <tr>\n",
       "      <th>1</th>\n",
       "      <td>Alice in Wonderland (2010)</td>\n",
       "      <td>BV</td>\n",
       "      <td>334200000.0</td>\n",
       "      <td>691300000</td>\n",
       "      <td>2010</td>\n",
       "    </tr>\n",
       "    <tr>\n",
       "      <th>2</th>\n",
       "      <td>Harry Potter and the Deathly Hallows Part 1</td>\n",
       "      <td>WB</td>\n",
       "      <td>296000000.0</td>\n",
       "      <td>664300000</td>\n",
       "      <td>2010</td>\n",
       "    </tr>\n",
       "    <tr>\n",
       "      <th>3</th>\n",
       "      <td>Inception</td>\n",
       "      <td>WB</td>\n",
       "      <td>292600000.0</td>\n",
       "      <td>535700000</td>\n",
       "      <td>2010</td>\n",
       "    </tr>\n",
       "    <tr>\n",
       "      <th>4</th>\n",
       "      <td>Shrek Forever After</td>\n",
       "      <td>P/DW</td>\n",
       "      <td>238700000.0</td>\n",
       "      <td>513900000</td>\n",
       "      <td>2010</td>\n",
       "    </tr>\n",
       "  </tbody>\n",
       "</table>\n",
       "</div>"
      ],
      "text/plain": [
       "                                         title studio  domestic_gross   \n",
       "0                                  Toy Story 3     BV     415000000.0  \\\n",
       "1                   Alice in Wonderland (2010)     BV     334200000.0   \n",
       "2  Harry Potter and the Deathly Hallows Part 1     WB     296000000.0   \n",
       "3                                    Inception     WB     292600000.0   \n",
       "4                          Shrek Forever After   P/DW     238700000.0   \n",
       "\n",
       "  foreign_gross  year  \n",
       "0     652000000  2010  \n",
       "1     691300000  2010  \n",
       "2     664300000  2010  \n",
       "3     535700000  2010  \n",
       "4     513900000  2010  "
      ]
     },
     "execution_count": 10,
     "metadata": {},
     "output_type": "execute_result"
    }
   ],
   "source": [
    "#calling the box office mojo data from the  csv file\n",
    "#checking the first 5 elements of the dataframe\n",
    "\n",
    "mojo_df = pd.read_csv(\"learn-co-curriculum dsc-phase-1-project master zippedData/bom.movie_gross.csv.gz\")\n",
    "mojo_df.head()"
   ]
  },
  {
   "cell_type": "code",
   "execution_count": 11,
   "metadata": {},
   "outputs": [
    {
     "data": {
      "text/plain": [
       "Index(['title', 'studio', 'domestic_gross', 'foreign_gross', 'year'], dtype='object')"
      ]
     },
     "execution_count": 11,
     "metadata": {},
     "output_type": "execute_result"
    }
   ],
   "source": [
    "#obtaining coloumns in the dataframe\n",
    "\n",
    "mojo_df.columns"
   ]
  },
  {
   "cell_type": "code",
   "execution_count": 12,
   "metadata": {},
   "outputs": [
    {
     "data": {
      "text/plain": [
       "(3387, 5)"
      ]
     },
     "execution_count": 12,
     "metadata": {},
     "output_type": "execute_result"
    }
   ],
   "source": [
    "#obtainning number of columns androws\n",
    "mojo_df.shape"
   ]
  },
  {
   "cell_type": "code",
   "execution_count": 13,
   "metadata": {},
   "outputs": [
    {
     "data": {
      "text/plain": [
       "title              object\n",
       "studio             object\n",
       "domestic_gross    float64\n",
       "foreign_gross      object\n",
       "year                int64\n",
       "dtype: object"
      ]
     },
     "execution_count": 13,
     "metadata": {},
     "output_type": "execute_result"
    }
   ],
   "source": [
    "#getting data types per column\n",
    "\n",
    "mojo_df.dtypes"
   ]
  },
  {
   "cell_type": "code",
   "execution_count": 14,
   "metadata": {},
   "outputs": [
    {
     "data": {
      "text/plain": [
       "title                0\n",
       "studio               5\n",
       "domestic_gross      28\n",
       "foreign_gross     1350\n",
       "year                 0\n",
       "dtype: int64"
      ]
     },
     "execution_count": 14,
     "metadata": {},
     "output_type": "execute_result"
    }
   ],
   "source": [
    "# getting total number of NaN values in the dataset\n",
    "\n",
    "mojo_df.isna().sum()"
   ]
  },
  {
   "cell_type": "code",
   "execution_count": 15,
   "metadata": {},
   "outputs": [
    {
     "name": "stdout",
     "output_type": "stream",
     "text": [
      "<class 'pandas.core.frame.DataFrame'>\n",
      "RangeIndex: 3387 entries, 0 to 3386\n",
      "Data columns (total 5 columns):\n",
      " #   Column          Non-Null Count  Dtype  \n",
      "---  ------          --------------  -----  \n",
      " 0   title           3387 non-null   object \n",
      " 1   studio          3382 non-null   object \n",
      " 2   domestic_gross  3359 non-null   float64\n",
      " 3   foreign_gross   2037 non-null   object \n",
      " 4   year            3387 non-null   int64  \n",
      "dtypes: float64(1), int64(1), object(3)\n",
      "memory usage: 132.4+ KB\n"
     ]
    }
   ],
   "source": [
    "#checking the summary of the mojo dataframe\n",
    "\n",
    "mojo_df.info()"
   ]
  },
  {
   "cell_type": "code",
   "execution_count": 16,
   "metadata": {},
   "outputs": [
    {
     "data": {
      "text/plain": [
       "studio\n",
       "IFC      166\n",
       "Uni.     147\n",
       "WB       140\n",
       "Fox      136\n",
       "Magn.    136\n",
       "Name: count, dtype: int64"
      ]
     },
     "execution_count": 16,
     "metadata": {},
     "output_type": "execute_result"
    }
   ],
   "source": [
    "# top studios\n",
    "\n",
    "top10 = mojo_df['studio'].value_counts().head()\n",
    "top10"
   ]
  },
  {
   "cell_type": "code",
   "execution_count": 17,
   "metadata": {},
   "outputs": [
    {
     "data": {
      "text/plain": [
       "pandas.core.series.Series"
      ]
     },
     "execution_count": 17,
     "metadata": {},
     "output_type": "execute_result"
    }
   ],
   "source": [
    "type(top10)"
   ]
  },
  {
   "cell_type": "code",
   "execution_count": 18,
   "metadata": {},
   "outputs": [
    {
     "data": {
      "text/html": [
       "<div>\n",
       "<style scoped>\n",
       "    .dataframe tbody tr th:only-of-type {\n",
       "        vertical-align: middle;\n",
       "    }\n",
       "\n",
       "    .dataframe tbody tr th {\n",
       "        vertical-align: top;\n",
       "    }\n",
       "\n",
       "    .dataframe thead th {\n",
       "        text-align: right;\n",
       "    }\n",
       "</style>\n",
       "<table border=\"1\" class=\"dataframe\">\n",
       "  <thead>\n",
       "    <tr style=\"text-align: right;\">\n",
       "      <th></th>\n",
       "      <th>title</th>\n",
       "      <th>domestic_gross</th>\n",
       "      <th>foreign_gross</th>\n",
       "      <th>year</th>\n",
       "    </tr>\n",
       "    <tr>\n",
       "      <th>studio</th>\n",
       "      <th></th>\n",
       "      <th></th>\n",
       "      <th></th>\n",
       "      <th></th>\n",
       "    </tr>\n",
       "  </thead>\n",
       "  <tbody>\n",
       "    <tr>\n",
       "      <th>3D</th>\n",
       "      <td>Sea Rex 3D: Journey to a Prehistoric World</td>\n",
       "      <td>6100000.0</td>\n",
       "      <td>9900000</td>\n",
       "      <td>2010</td>\n",
       "    </tr>\n",
       "    <tr>\n",
       "      <th>A23</th>\n",
       "      <td>Revenge of the Electric CarRed Obsession</td>\n",
       "      <td>164200.0</td>\n",
       "      <td>0</td>\n",
       "      <td>4024</td>\n",
       "    </tr>\n",
       "    <tr>\n",
       "      <th>A24</th>\n",
       "      <td>Spring BreakersThe Bling RingThe Spectacular N...</td>\n",
       "      <td>324194200.0</td>\n",
       "      <td>1760000013300000630000028000002400000210000011...</td>\n",
       "      <td>98754</td>\n",
       "    </tr>\n",
       "    <tr>\n",
       "      <th>ADC</th>\n",
       "      <td>A Royal Night OutAbsolutely Anything</td>\n",
       "      <td>248200.0</td>\n",
       "      <td>0</td>\n",
       "      <td>4032</td>\n",
       "    </tr>\n",
       "    <tr>\n",
       "      <th>AF</th>\n",
       "      <td>BarbaraSister (2012)Caesar Must DieOmarBethleh...</td>\n",
       "      <td>2142900.0</td>\n",
       "      <td>3100000400000</td>\n",
       "      <td>12080</td>\n",
       "    </tr>\n",
       "    <tr>\n",
       "      <th>...</th>\n",
       "      <td>...</td>\n",
       "      <td>...</td>\n",
       "      <td>...</td>\n",
       "      <td>...</td>\n",
       "    </tr>\n",
       "    <tr>\n",
       "      <th>XL</th>\n",
       "      <td>Storm Surfers 3DJimi: All Is By My Side</td>\n",
       "      <td>458000.0</td>\n",
       "      <td>0</td>\n",
       "      <td>4027</td>\n",
       "    </tr>\n",
       "    <tr>\n",
       "      <th>YFG</th>\n",
       "      <td>Papa: Hemingway in Cuba</td>\n",
       "      <td>1100000.0</td>\n",
       "      <td>0</td>\n",
       "      <td>2016</td>\n",
       "    </tr>\n",
       "    <tr>\n",
       "      <th>Yash</th>\n",
       "      <td>Band Baaja BaaraatBadmaash CompanyMere Brother...</td>\n",
       "      <td>31631400.0</td>\n",
       "      <td>6070064400800000008110000025900000818000003900000</td>\n",
       "      <td>28194</td>\n",
       "    </tr>\n",
       "    <tr>\n",
       "      <th>Zee</th>\n",
       "      <td>Rustom</td>\n",
       "      <td>1100000.0</td>\n",
       "      <td>571000</td>\n",
       "      <td>2016</td>\n",
       "    </tr>\n",
       "    <tr>\n",
       "      <th>Zeit.</th>\n",
       "      <td>Mid-August LunchVisionLast Train HomeThe TreeB...</td>\n",
       "      <td>5663500.0</td>\n",
       "      <td>87000004600000210000012000003700000</td>\n",
       "      <td>32206</td>\n",
       "    </tr>\n",
       "  </tbody>\n",
       "</table>\n",
       "<p>257 rows × 4 columns</p>\n",
       "</div>"
      ],
      "text/plain": [
       "                                                    title  domestic_gross   \n",
       "studio                                                                      \n",
       "3D             Sea Rex 3D: Journey to a Prehistoric World       6100000.0  \\\n",
       "A23              Revenge of the Electric CarRed Obsession        164200.0   \n",
       "A24     Spring BreakersThe Bling RingThe Spectacular N...     324194200.0   \n",
       "ADC                  A Royal Night OutAbsolutely Anything        248200.0   \n",
       "AF      BarbaraSister (2012)Caesar Must DieOmarBethleh...       2142900.0   \n",
       "...                                                   ...             ...   \n",
       "XL                Storm Surfers 3DJimi: All Is By My Side        458000.0   \n",
       "YFG                               Papa: Hemingway in Cuba       1100000.0   \n",
       "Yash    Band Baaja BaaraatBadmaash CompanyMere Brother...      31631400.0   \n",
       "Zee                                                Rustom       1100000.0   \n",
       "Zeit.   Mid-August LunchVisionLast Train HomeThe TreeB...       5663500.0   \n",
       "\n",
       "                                            foreign_gross   year  \n",
       "studio                                                            \n",
       "3D                                                9900000   2010  \n",
       "A23                                                     0   4024  \n",
       "A24     1760000013300000630000028000002400000210000011...  98754  \n",
       "ADC                                                     0   4032  \n",
       "AF                                          3100000400000  12080  \n",
       "...                                                   ...    ...  \n",
       "XL                                                      0   4027  \n",
       "YFG                                                     0   2016  \n",
       "Yash    6070064400800000008110000025900000818000003900000  28194  \n",
       "Zee                                                571000   2016  \n",
       "Zeit.                 87000004600000210000012000003700000  32206  \n",
       "\n",
       "[257 rows x 4 columns]"
      ]
     },
     "execution_count": 18,
     "metadata": {},
     "output_type": "execute_result"
    }
   ],
   "source": [
    "mojo_df.groupby(['studio']).sum()"
   ]
  },
  {
   "cell_type": "code",
   "execution_count": 19,
   "metadata": {},
   "outputs": [
    {
     "data": {
      "text/plain": [
       "count    3.359000e+03\n",
       "mean     2.874585e+07\n",
       "std      6.698250e+07\n",
       "min      1.000000e+02\n",
       "25%      1.200000e+05\n",
       "50%      1.400000e+06\n",
       "75%      2.790000e+07\n",
       "max      9.367000e+08\n",
       "Name: domestic_gross, dtype: float64"
      ]
     },
     "execution_count": 19,
     "metadata": {},
     "output_type": "execute_result"
    }
   ],
   "source": [
    "#descriptive statistics for each column \n",
    "\n",
    "mojo_df['domestic_gross'].describe()"
   ]
  },
  {
   "cell_type": "code",
   "execution_count": 20,
   "metadata": {},
   "outputs": [
    {
     "data": {
      "text/plain": [
       "array([2010, 2011, 2012, 2013, 2014, 2015, 2016, 2017, 2018], dtype=int64)"
      ]
     },
     "execution_count": 20,
     "metadata": {},
     "output_type": "execute_result"
    }
   ],
   "source": [
    "#checking the years we'll be working with\n",
    "mojo_df.year.unique()"
   ]
  },
  {
   "attachments": {},
   "cell_type": "markdown",
   "metadata": {},
   "source": [
    "DATA PREPARATION"
   ]
  },
  {
   "attachments": {},
   "cell_type": "markdown",
   "metadata": {},
   "source": [
    "I prepared the data for analysis by performing data preparation, which included data cleaning, after deciding the preferred data sets to employ.\n",
    "\n",
    "We will perform the following after data cleaning:\n",
    "\n",
    "    1.  Inspect for and remove any unnecessary columns.\n",
    "    2.  Standardization, column renaming, and data type conversion were required. Upper case values were to be changed to lower case values.\n",
    "    3.  Verify any null values and remove them.\n",
    "    4.  Search for missing values, then take appropriate action.\n",
    "    5.  Check for duplicate values and remove them if necessary.\n",
    "Regarding the BOM Data;"
   ]
  },
  {
   "cell_type": "code",
   "execution_count": 21,
   "metadata": {},
   "outputs": [],
   "source": [
    "#dropping columns in the dataframe that won't be needed during analysis\n",
    "\n",
    "mojo_df.drop(['title'], axis=1, inplace=True)"
   ]
  },
  {
   "cell_type": "code",
   "execution_count": 22,
   "metadata": {},
   "outputs": [
    {
     "name": "stdout",
     "output_type": "stream",
     "text": [
      "<class 'pandas.core.frame.DataFrame'>\n",
      "RangeIndex: 3387 entries, 0 to 3386\n",
      "Data columns (total 4 columns):\n",
      " #   Column          Non-Null Count  Dtype  \n",
      "---  ------          --------------  -----  \n",
      " 0   studio          3382 non-null   object \n",
      " 1   domestic_gross  3359 non-null   float64\n",
      " 2   foreign_gross   2037 non-null   object \n",
      " 3   year            3387 non-null   int64  \n",
      "dtypes: float64(1), int64(1), object(2)\n",
      "memory usage: 106.0+ KB\n"
     ]
    }
   ],
   "source": [
    "mojo_df.info()"
   ]
  },
  {
   "cell_type": "code",
   "execution_count": 23,
   "metadata": {},
   "outputs": [
    {
     "data": {
      "text/plain": [
       "False    3376\n",
       "True       11\n",
       "Name: count, dtype: int64"
      ]
     },
     "execution_count": 23,
     "metadata": {},
     "output_type": "execute_result"
    }
   ],
   "source": [
    "# checking if there are any duplication\n",
    "mojo_df.duplicated().value_counts()"
   ]
  },
  {
   "cell_type": "code",
   "execution_count": 24,
   "metadata": {},
   "outputs": [
    {
     "data": {
      "text/plain": [
       "studio               5\n",
       "domestic_gross      28\n",
       "foreign_gross     1350\n",
       "year                 0\n",
       "dtype: int64"
      ]
     },
     "execution_count": 24,
     "metadata": {},
     "output_type": "execute_result"
    }
   ],
   "source": [
    "# missing values inspection\n",
    "row_count = mojo_df.shape[0]\n",
    "missing_count = row_count - mojo_df.count() \n",
    "missing_count"
   ]
  },
  {
   "cell_type": "code",
   "execution_count": 25,
   "metadata": {},
   "outputs": [
    {
     "data": {
      "text/plain": [
       "studio            11\n",
       "domestic_gross    11\n",
       "foreign_gross      0\n",
       "year              11\n",
       "dtype: int64"
      ]
     },
     "execution_count": 25,
     "metadata": {},
     "output_type": "execute_result"
    }
   ],
   "source": [
    "# duplicates check\n",
    "duplicateRows = mojo_df[mojo_df.duplicated()]\n",
    "duplicateRows.count()"
   ]
  },
  {
   "cell_type": "code",
   "execution_count": 26,
   "metadata": {},
   "outputs": [
    {
     "data": {
      "text/plain": [
       "studio             True\n",
       "domestic_gross     True\n",
       "foreign_gross      True\n",
       "year              False\n",
       "dtype: bool"
      ]
     },
     "execution_count": 26,
     "metadata": {},
     "output_type": "execute_result"
    }
   ],
   "source": [
    "# checking null values\n",
    "\n",
    "mojo_df.isnull().any()"
   ]
  },
  {
   "cell_type": "code",
   "execution_count": 27,
   "metadata": {},
   "outputs": [
    {
     "data": {
      "text/plain": [
       "11"
      ]
     },
     "execution_count": 27,
     "metadata": {},
     "output_type": "execute_result"
    }
   ],
   "source": [
    "# duplicates check\n",
    "\n",
    "mojo_df.duplicated().sum()"
   ]
  },
  {
   "attachments": {},
   "cell_type": "markdown",
   "metadata": {},
   "source": [
    "For Rotten Tomatoes Data:\n",
    "\n",
    "I started by dropping columns that i will not need in the analysis"
   ]
  },
  {
   "cell_type": "code",
   "execution_count": 28,
   "metadata": {},
   "outputs": [
    {
     "data": {
      "text/plain": [
       "Index(['synopsis', 'rating', 'genre', 'director', 'writer', 'theater_date',\n",
       "       'dvd_date', 'currency', 'box_office', 'runtime', 'studio'],\n",
       "      dtype='object')"
      ]
     },
     "execution_count": 28,
     "metadata": {},
     "output_type": "execute_result"
    }
   ],
   "source": [
    "rtmovie_df.columns"
   ]
  },
  {
   "cell_type": "code",
   "execution_count": 29,
   "metadata": {},
   "outputs": [
    {
     "data": {
      "text/html": [
       "<div>\n",
       "<style scoped>\n",
       "    .dataframe tbody tr th:only-of-type {\n",
       "        vertical-align: middle;\n",
       "    }\n",
       "\n",
       "    .dataframe tbody tr th {\n",
       "        vertical-align: top;\n",
       "    }\n",
       "\n",
       "    .dataframe thead th {\n",
       "        text-align: right;\n",
       "    }\n",
       "</style>\n",
       "<table border=\"1\" class=\"dataframe\">\n",
       "  <thead>\n",
       "    <tr style=\"text-align: right;\">\n",
       "      <th></th>\n",
       "      <th>synopsis</th>\n",
       "      <th>rating</th>\n",
       "      <th>genre</th>\n",
       "      <th>director</th>\n",
       "      <th>writer</th>\n",
       "      <th>theater_date</th>\n",
       "      <th>dvd_date</th>\n",
       "      <th>currency</th>\n",
       "      <th>box_office</th>\n",
       "      <th>runtime</th>\n",
       "      <th>studio</th>\n",
       "    </tr>\n",
       "  </thead>\n",
       "  <tbody>\n",
       "    <tr>\n",
       "      <th>0</th>\n",
       "      <td>This gritty, fast-paced, and innovative police...</td>\n",
       "      <td>R</td>\n",
       "      <td>Action and Adventure|Classics|Drama</td>\n",
       "      <td>William Friedkin</td>\n",
       "      <td>Ernest Tidyman</td>\n",
       "      <td>Oct 9, 1971</td>\n",
       "      <td>Sep 25, 2001</td>\n",
       "      <td>NaN</td>\n",
       "      <td>NaN</td>\n",
       "      <td>104 minutes</td>\n",
       "      <td>NaN</td>\n",
       "    </tr>\n",
       "    <tr>\n",
       "      <th>1</th>\n",
       "      <td>New York City, not-too-distant-future: Eric Pa...</td>\n",
       "      <td>R</td>\n",
       "      <td>Drama|Science Fiction and Fantasy</td>\n",
       "      <td>David Cronenberg</td>\n",
       "      <td>David Cronenberg|Don DeLillo</td>\n",
       "      <td>Aug 17, 2012</td>\n",
       "      <td>Jan 1, 2013</td>\n",
       "      <td>$</td>\n",
       "      <td>600,000</td>\n",
       "      <td>108 minutes</td>\n",
       "      <td>Entertainment One</td>\n",
       "    </tr>\n",
       "    <tr>\n",
       "      <th>2</th>\n",
       "      <td>Illeana Douglas delivers a superb performance ...</td>\n",
       "      <td>R</td>\n",
       "      <td>Drama|Musical and Performing Arts</td>\n",
       "      <td>Allison Anders</td>\n",
       "      <td>Allison Anders</td>\n",
       "      <td>Sep 13, 1996</td>\n",
       "      <td>Apr 18, 2000</td>\n",
       "      <td>NaN</td>\n",
       "      <td>NaN</td>\n",
       "      <td>116 minutes</td>\n",
       "      <td>NaN</td>\n",
       "    </tr>\n",
       "    <tr>\n",
       "      <th>3</th>\n",
       "      <td>Michael Douglas runs afoul of a treacherous su...</td>\n",
       "      <td>R</td>\n",
       "      <td>Drama|Mystery and Suspense</td>\n",
       "      <td>Barry Levinson</td>\n",
       "      <td>Paul Attanasio|Michael Crichton</td>\n",
       "      <td>Dec 9, 1994</td>\n",
       "      <td>Aug 27, 1997</td>\n",
       "      <td>NaN</td>\n",
       "      <td>NaN</td>\n",
       "      <td>128 minutes</td>\n",
       "      <td>NaN</td>\n",
       "    </tr>\n",
       "    <tr>\n",
       "      <th>4</th>\n",
       "      <td>NaN</td>\n",
       "      <td>NR</td>\n",
       "      <td>Drama|Romance</td>\n",
       "      <td>Rodney Bennett</td>\n",
       "      <td>Giles Cooper</td>\n",
       "      <td>NaN</td>\n",
       "      <td>NaN</td>\n",
       "      <td>NaN</td>\n",
       "      <td>NaN</td>\n",
       "      <td>200 minutes</td>\n",
       "      <td>NaN</td>\n",
       "    </tr>\n",
       "    <tr>\n",
       "      <th>...</th>\n",
       "      <td>...</td>\n",
       "      <td>...</td>\n",
       "      <td>...</td>\n",
       "      <td>...</td>\n",
       "      <td>...</td>\n",
       "      <td>...</td>\n",
       "      <td>...</td>\n",
       "      <td>...</td>\n",
       "      <td>...</td>\n",
       "      <td>...</td>\n",
       "      <td>...</td>\n",
       "    </tr>\n",
       "    <tr>\n",
       "      <th>1555</th>\n",
       "      <td>Forget terrorists or hijackers -- there's a ha...</td>\n",
       "      <td>R</td>\n",
       "      <td>Action and Adventure|Horror|Mystery and Suspense</td>\n",
       "      <td>NaN</td>\n",
       "      <td>NaN</td>\n",
       "      <td>Aug 18, 2006</td>\n",
       "      <td>Jan 2, 2007</td>\n",
       "      <td>$</td>\n",
       "      <td>33,886,034</td>\n",
       "      <td>106 minutes</td>\n",
       "      <td>New Line Cinema</td>\n",
       "    </tr>\n",
       "    <tr>\n",
       "      <th>1556</th>\n",
       "      <td>The popular Saturday Night Live sketch was exp...</td>\n",
       "      <td>PG</td>\n",
       "      <td>Comedy|Science Fiction and Fantasy</td>\n",
       "      <td>Steve Barron</td>\n",
       "      <td>Terry Turner|Tom Davis|Dan Aykroyd|Bonnie Turner</td>\n",
       "      <td>Jul 23, 1993</td>\n",
       "      <td>Apr 17, 2001</td>\n",
       "      <td>NaN</td>\n",
       "      <td>NaN</td>\n",
       "      <td>88 minutes</td>\n",
       "      <td>Paramount Vantage</td>\n",
       "    </tr>\n",
       "    <tr>\n",
       "      <th>1557</th>\n",
       "      <td>Based on a novel by Richard Powell, when the l...</td>\n",
       "      <td>G</td>\n",
       "      <td>Classics|Comedy|Drama|Musical and Performing Arts</td>\n",
       "      <td>Gordon Douglas</td>\n",
       "      <td>NaN</td>\n",
       "      <td>Jan 1, 1962</td>\n",
       "      <td>May 11, 2004</td>\n",
       "      <td>NaN</td>\n",
       "      <td>NaN</td>\n",
       "      <td>111 minutes</td>\n",
       "      <td>NaN</td>\n",
       "    </tr>\n",
       "    <tr>\n",
       "      <th>1558</th>\n",
       "      <td>The Sandlot is a coming-of-age story about a g...</td>\n",
       "      <td>PG</td>\n",
       "      <td>Comedy|Drama|Kids and Family|Sports and Fitness</td>\n",
       "      <td>David Mickey Evans</td>\n",
       "      <td>David Mickey Evans|Robert Gunter</td>\n",
       "      <td>Apr 1, 1993</td>\n",
       "      <td>Jan 29, 2002</td>\n",
       "      <td>NaN</td>\n",
       "      <td>NaN</td>\n",
       "      <td>101 minutes</td>\n",
       "      <td>NaN</td>\n",
       "    </tr>\n",
       "    <tr>\n",
       "      <th>1559</th>\n",
       "      <td>Suspended from the force, Paris cop Hubert is ...</td>\n",
       "      <td>R</td>\n",
       "      <td>Action and Adventure|Art House and Internation...</td>\n",
       "      <td>NaN</td>\n",
       "      <td>Luc Besson</td>\n",
       "      <td>Sep 27, 2001</td>\n",
       "      <td>Feb 11, 2003</td>\n",
       "      <td>NaN</td>\n",
       "      <td>NaN</td>\n",
       "      <td>94 minutes</td>\n",
       "      <td>Columbia Pictures</td>\n",
       "    </tr>\n",
       "  </tbody>\n",
       "</table>\n",
       "<p>1560 rows × 11 columns</p>\n",
       "</div>"
      ],
      "text/plain": [
       "                                               synopsis rating   \n",
       "0     This gritty, fast-paced, and innovative police...      R  \\\n",
       "1     New York City, not-too-distant-future: Eric Pa...      R   \n",
       "2     Illeana Douglas delivers a superb performance ...      R   \n",
       "3     Michael Douglas runs afoul of a treacherous su...      R   \n",
       "4                                                   NaN     NR   \n",
       "...                                                 ...    ...   \n",
       "1555  Forget terrorists or hijackers -- there's a ha...      R   \n",
       "1556  The popular Saturday Night Live sketch was exp...     PG   \n",
       "1557  Based on a novel by Richard Powell, when the l...      G   \n",
       "1558  The Sandlot is a coming-of-age story about a g...     PG   \n",
       "1559  Suspended from the force, Paris cop Hubert is ...      R   \n",
       "\n",
       "                                                  genre            director   \n",
       "0                   Action and Adventure|Classics|Drama    William Friedkin  \\\n",
       "1                     Drama|Science Fiction and Fantasy    David Cronenberg   \n",
       "2                     Drama|Musical and Performing Arts      Allison Anders   \n",
       "3                            Drama|Mystery and Suspense      Barry Levinson   \n",
       "4                                         Drama|Romance      Rodney Bennett   \n",
       "...                                                 ...                 ...   \n",
       "1555   Action and Adventure|Horror|Mystery and Suspense                 NaN   \n",
       "1556                 Comedy|Science Fiction and Fantasy        Steve Barron   \n",
       "1557  Classics|Comedy|Drama|Musical and Performing Arts      Gordon Douglas   \n",
       "1558    Comedy|Drama|Kids and Family|Sports and Fitness  David Mickey Evans   \n",
       "1559  Action and Adventure|Art House and Internation...                 NaN   \n",
       "\n",
       "                                                writer  theater_date   \n",
       "0                                       Ernest Tidyman   Oct 9, 1971  \\\n",
       "1                         David Cronenberg|Don DeLillo  Aug 17, 2012   \n",
       "2                                       Allison Anders  Sep 13, 1996   \n",
       "3                      Paul Attanasio|Michael Crichton   Dec 9, 1994   \n",
       "4                                         Giles Cooper           NaN   \n",
       "...                                                ...           ...   \n",
       "1555                                               NaN  Aug 18, 2006   \n",
       "1556  Terry Turner|Tom Davis|Dan Aykroyd|Bonnie Turner  Jul 23, 1993   \n",
       "1557                                               NaN   Jan 1, 1962   \n",
       "1558                  David Mickey Evans|Robert Gunter   Apr 1, 1993   \n",
       "1559                                        Luc Besson  Sep 27, 2001   \n",
       "\n",
       "          dvd_date currency  box_office      runtime             studio  \n",
       "0     Sep 25, 2001      NaN         NaN  104 minutes                NaN  \n",
       "1      Jan 1, 2013        $     600,000  108 minutes  Entertainment One  \n",
       "2     Apr 18, 2000      NaN         NaN  116 minutes                NaN  \n",
       "3     Aug 27, 1997      NaN         NaN  128 minutes                NaN  \n",
       "4              NaN      NaN         NaN  200 minutes                NaN  \n",
       "...            ...      ...         ...          ...                ...  \n",
       "1555   Jan 2, 2007        $  33,886,034  106 minutes    New Line Cinema  \n",
       "1556  Apr 17, 2001      NaN         NaN   88 minutes  Paramount Vantage  \n",
       "1557  May 11, 2004      NaN         NaN  111 minutes                NaN  \n",
       "1558  Jan 29, 2002      NaN         NaN  101 minutes                NaN  \n",
       "1559  Feb 11, 2003      NaN         NaN   94 minutes  Columbia Pictures  \n",
       "\n",
       "[1560 rows x 11 columns]"
      ]
     },
     "execution_count": 29,
     "metadata": {},
     "output_type": "execute_result"
    }
   ],
   "source": [
    "rtmovie_df"
   ]
  },
  {
   "cell_type": "code",
   "execution_count": 30,
   "metadata": {},
   "outputs": [
    {
     "data": {
      "text/plain": [
       "synopsis          62\n",
       "rating             3\n",
       "genre              8\n",
       "director         199\n",
       "writer           449\n",
       "theater_date     359\n",
       "dvd_date         359\n",
       "currency        1220\n",
       "box_office      1220\n",
       "runtime           30\n",
       "studio          1066\n",
       "dtype: int64"
      ]
     },
     "execution_count": 30,
     "metadata": {},
     "output_type": "execute_result"
    }
   ],
   "source": [
    "#total NaN values in the data set\n",
    "rtmovie_df.isna().sum()"
   ]
  },
  {
   "cell_type": "code",
   "execution_count": 31,
   "metadata": {},
   "outputs": [
    {
     "data": {
      "text/plain": [
       "synopsis          62\n",
       "rating             3\n",
       "genre              8\n",
       "director         199\n",
       "writer           449\n",
       "theater_date     359\n",
       "dvd_date         359\n",
       "currency        1220\n",
       "box_office      1220\n",
       "runtime           30\n",
       "studio          1066\n",
       "dtype: int64"
      ]
     },
     "execution_count": 31,
     "metadata": {},
     "output_type": "execute_result"
    }
   ],
   "source": [
    "#missing values check \n",
    "row_count = rtmovie_df.shape[0]\n",
    "missing_count = row_count - rtmovie_df.count() \n",
    "missing_count"
   ]
  },
  {
   "attachments": {},
   "cell_type": "markdown",
   "metadata": {},
   "source": [
    "Data Analysis\n",
    "\n",
    "mojo_df\n",
    "Analysis for top 10 studios against their domestic gross"
   ]
  },
  {
   "cell_type": "code",
   "execution_count": 32,
   "metadata": {},
   "outputs": [],
   "source": [
    "#sorting the data for top to studios\n",
    "\n",
    "\n",
    "mojo_dfagg = mojo_df.groupby(['studio']).agg('sum')"
   ]
  },
  {
   "cell_type": "code",
   "execution_count": 33,
   "metadata": {},
   "outputs": [
    {
     "data": {
      "text/html": [
       "<div>\n",
       "<style scoped>\n",
       "    .dataframe tbody tr th:only-of-type {\n",
       "        vertical-align: middle;\n",
       "    }\n",
       "\n",
       "    .dataframe tbody tr th {\n",
       "        vertical-align: top;\n",
       "    }\n",
       "\n",
       "    .dataframe thead th {\n",
       "        text-align: right;\n",
       "    }\n",
       "</style>\n",
       "<table border=\"1\" class=\"dataframe\">\n",
       "  <thead>\n",
       "    <tr style=\"text-align: right;\">\n",
       "      <th></th>\n",
       "      <th>domestic_gross</th>\n",
       "      <th>foreign_gross</th>\n",
       "      <th>year</th>\n",
       "    </tr>\n",
       "    <tr>\n",
       "      <th>studio</th>\n",
       "      <th></th>\n",
       "      <th></th>\n",
       "      <th></th>\n",
       "    </tr>\n",
       "  </thead>\n",
       "  <tbody>\n",
       "    <tr>\n",
       "      <th>BV</th>\n",
       "      <td>1.841903e+10</td>\n",
       "      <td>6520000006913000003910000002280000002456000001...</td>\n",
       "      <td>213451</td>\n",
       "    </tr>\n",
       "    <tr>\n",
       "      <th>Uni.</th>\n",
       "      <td>1.290239e+10</td>\n",
       "      <td>2916000002164000001622000007780000059800000642...</td>\n",
       "      <td>296082</td>\n",
       "    </tr>\n",
       "    <tr>\n",
       "      <th>WB</th>\n",
       "      <td>1.216805e+10</td>\n",
       "      <td>6643000005357000003300000001112000001013000006...</td>\n",
       "      <td>281941</td>\n",
       "    </tr>\n",
       "    <tr>\n",
       "      <th>Fox</th>\n",
       "      <td>1.094950e+10</td>\n",
       "      <td>3113000001855000001946000001377000001000000008...</td>\n",
       "      <td>273882</td>\n",
       "    </tr>\n",
       "    <tr>\n",
       "      <th>Sony</th>\n",
       "      <td>8.459683e+09</td>\n",
       "      <td>1825000001752000002107000001094000001280000001...</td>\n",
       "      <td>221575</td>\n",
       "    </tr>\n",
       "    <tr>\n",
       "      <th>Par.</th>\n",
       "      <td>7.685871e+09</td>\n",
       "      <td>3115000001879000001668000008100000092800000545...</td>\n",
       "      <td>203417</td>\n",
       "    </tr>\n",
       "    <tr>\n",
       "      <th>LGF</th>\n",
       "      <td>4.118963e+09</td>\n",
       "      <td>1714000009040000051100000481000002670000046300...</td>\n",
       "      <td>207437</td>\n",
       "    </tr>\n",
       "    <tr>\n",
       "      <th>WB (NL)</th>\n",
       "      <td>3.995700e+09</td>\n",
       "      <td>1930000001060000005260000024200000921000001153...</td>\n",
       "      <td>90644</td>\n",
       "    </tr>\n",
       "    <tr>\n",
       "      <th>LG/S</th>\n",
       "      <td>2.078200e+09</td>\n",
       "      <td>5374000001613000001054000002960000027600000870...</td>\n",
       "      <td>82599</td>\n",
       "    </tr>\n",
       "    <tr>\n",
       "      <th>P/DW</th>\n",
       "      <td>1.682900e+09</td>\n",
       "      <td>5139000002773000001735000001380000077140000050...</td>\n",
       "      <td>20109</td>\n",
       "    </tr>\n",
       "  </tbody>\n",
       "</table>\n",
       "</div>"
      ],
      "text/plain": [
       "         domestic_gross                                      foreign_gross   \n",
       "studio                                                                       \n",
       "BV         1.841903e+10  6520000006913000003910000002280000002456000001...  \\\n",
       "Uni.       1.290239e+10  2916000002164000001622000007780000059800000642...   \n",
       "WB         1.216805e+10  6643000005357000003300000001112000001013000006...   \n",
       "Fox        1.094950e+10  3113000001855000001946000001377000001000000008...   \n",
       "Sony       8.459683e+09  1825000001752000002107000001094000001280000001...   \n",
       "Par.       7.685871e+09  3115000001879000001668000008100000092800000545...   \n",
       "LGF        4.118963e+09  1714000009040000051100000481000002670000046300...   \n",
       "WB (NL)    3.995700e+09  1930000001060000005260000024200000921000001153...   \n",
       "LG/S       2.078200e+09  5374000001613000001054000002960000027600000870...   \n",
       "P/DW       1.682900e+09  5139000002773000001735000001380000077140000050...   \n",
       "\n",
       "           year  \n",
       "studio           \n",
       "BV       213451  \n",
       "Uni.     296082  \n",
       "WB       281941  \n",
       "Fox      273882  \n",
       "Sony     221575  \n",
       "Par.     203417  \n",
       "LGF      207437  \n",
       "WB (NL)   90644  \n",
       "LG/S      82599  \n",
       "P/DW      20109  "
      ]
     },
     "execution_count": 33,
     "metadata": {},
     "output_type": "execute_result"
    }
   ],
   "source": [
    "mojo_dfagg = mojo_dfagg.sort_values('domestic_gross', ascending=False).head(10)\n",
    "mojo_dfagg"
   ]
  },
  {
   "cell_type": "code",
   "execution_count": 34,
   "metadata": {},
   "outputs": [
    {
     "data": {
      "text/plain": [
       "Index(['BV', 'Uni.', 'WB', 'Fox', 'Sony', 'Par.', 'LGF', 'WB (NL)', 'LG/S',\n",
       "       'P/DW'],\n",
       "      dtype='object', name='studio')"
      ]
     },
     "execution_count": 34,
     "metadata": {},
     "output_type": "execute_result"
    }
   ],
   "source": [
    "mojo_dfagg.index"
   ]
  },
  {
   "cell_type": "code",
   "execution_count": 35,
   "metadata": {},
   "outputs": [
    {
     "data": {
      "image/png": "[encoded data removed]",
      "text/plain": [
       "<Figure size 1500x1200 with 1 Axes>"
      ]
     },
     "metadata": {},
     "output_type": "display_data"
    }
   ],
   "source": [
    "#bar graph plot for top 10 studios domestic gross\n",
    "\n",
    "\n",
    "plt.figure(figsize=(15,12))\n",
    "\n",
    "studios = mojo_dfagg.index\n",
    "dom_gross = mojo_dfagg.domestic_gross\n",
    "\n",
    "\n",
    "plt.bar(range(len(studios)), dom_gross, color='blue')\n",
    "\n",
    "plt.title('Top 10 Studios Domestic Gross', fontsize=30)\n",
    "plt.xlabel('Studios', fontsize=30)\n",
    "plt.ylabel('Domestic Gross (Billions)', fontsize=30)\n",
    "plt.xticks(range(len(studios)), studios)\n",
    "\n",
    "plt.legend(['Domestic'])\n",
    "plt.show();"
   ]
  },
  {
   "attachments": {},
   "cell_type": "markdown",
   "metadata": {},
   "source": [
    "which genre of movie is produced more?"
   ]
  },
  {
   "cell_type": "code",
   "execution_count": 36,
   "metadata": {},
   "outputs": [
    {
     "data": {
      "text/plain": [
       "genre\n",
       "Drama                                                                                     151\n",
       "Comedy                                                                                    110\n",
       "Comedy|Drama                                                                               80\n",
       "Drama|Mystery and Suspense                                                                 67\n",
       "Art House and International|Drama                                                          62\n",
       "                                                                                         ... \n",
       "Art House and International|Drama|Sports and Fitness                                        1\n",
       "Comedy|Documentary|Musical and Performing Arts|Special Interest                             1\n",
       "Comedy|Cult Movies|Mystery and Suspense|Science Fiction and Fantasy                         1\n",
       "Action and Adventure|Art House and International|Mystery and Suspense|Special Interest      1\n",
       "Comedy|Drama|Kids and Family|Sports and Fitness                                             1\n",
       "Name: count, Length: 299, dtype: int64"
      ]
     },
     "execution_count": 36,
     "metadata": {},
     "output_type": "execute_result"
    }
   ],
   "source": [
    "#as par to rtmovie_df\n",
    "\n",
    "rtmovie_df.genre.value_counts()"
   ]
  },
  {
   "cell_type": "code",
   "execution_count": 37,
   "metadata": {},
   "outputs": [
    {
     "data": {
      "text/plain": [
       "Text(0.5, 1.0, 'Distribution of Genres')"
      ]
     },
     "execution_count": 37,
     "metadata": {},
     "output_type": "execute_result"
    },
    {
     "data": {
      "image/png": "[encoded data removed]",
      "text/plain": [
       "<Figure size 1500x1000 with 1 Axes>"
      ]
     },
     "metadata": {},
     "output_type": "display_data"
    }
   ],
   "source": [
    "#Frequency of movie genres\n",
    "\n",
    "rtmovie_df['first_genre'] = rtmovie_df['genre'].str.split(',').str[0]\n",
    "\n",
    "a = plt.cm.cool\n",
    "\n",
    "plt.figure(figsize=(15,10))\n",
    "count = rtmovie_df['first_genre'].value_counts()[:7]\n",
    "sns.barplot(x=count.values,y=count.index, palette=plt.cm.rainbow(np.linspace(0, 1, 7)))\n",
    "for i, v in enumerate(count.values):\n",
    "    plt.text(0.8,i,v,color='y',fontsize=14)\n",
    "plt.xlabel('Genre name', fontsize=12)\n",
    "plt.ylabel('Count', fontsize=12)\n",
    "plt.title(\"Distribution of Genres\", fontsize=16)\n"
   ]
  },
  {
   "attachments": {},
   "cell_type": "markdown",
   "metadata": {},
   "source": [
    "By looking at the overall amount of films created in each genre, we can observe that drama films are produced more frequently than comedies, with a combination of art house and international|classics|mystery and Suspense being the least frequently produced."
   ]
  },
  {
   "cell_type": "code",
   "execution_count": 38,
   "metadata": {},
   "outputs": [
    {
     "data": {
      "text/plain": [
       "array(['R', 'NR', 'PG', 'PG-13', nan, 'G', 'NC17'], dtype=object)"
      ]
     },
     "execution_count": 38,
     "metadata": {},
     "output_type": "execute_result"
    }
   ],
   "source": [
    "#viewing all the unique ratings in the dataframe\n",
    "\n",
    "rtmovie_df['rating'].unique()"
   ]
  },
  {
   "cell_type": "code",
   "execution_count": 39,
   "metadata": {},
   "outputs": [
    {
     "data": {
      "text/plain": [
       "rating\n",
       "R        521\n",
       "NR       503\n",
       "PG       240\n",
       "PG-13    235\n",
       "G         57\n",
       "NC17       1\n",
       "Name: count, dtype: int64"
      ]
     },
     "execution_count": 39,
     "metadata": {},
     "output_type": "execute_result"
    }
   ],
   "source": [
    "#checking on the total number of counts per genre:\n",
    "\n",
    "rtmovie_df['rating'].value_counts()"
   ]
  },
  {
   "cell_type": "code",
   "execution_count": 40,
   "metadata": {},
   "outputs": [
    {
     "data": {
      "text/plain": [
       "<Axes: >"
      ]
     },
     "execution_count": 40,
     "metadata": {},
     "output_type": "execute_result"
    },
    {
     "data": {
      "image/png": "[encoded data removed]",
      "text/plain": [
       "<Figure size 640x480 with 1 Axes>"
      ]
     },
     "metadata": {},
     "output_type": "display_data"
    }
   ],
   "source": [
    "#visualizing this on a histogram, we'll have\n",
    "\n",
    "rtmovie_df['rating'].hist(bins=10)"
   ]
  },
  {
   "attachments": {},
   "cell_type": "markdown",
   "metadata": {},
   "source": [
    "By evaluating the total number of films under each category, we deduce that films with a R rating are being produced more frequently than those with an NC17 rating."
   ]
  },
  {
   "cell_type": "code",
   "execution_count": 41,
   "metadata": {},
   "outputs": [],
   "source": [
    "# convert release date column to datetime values\n",
    "rtmovie_df['dvd_date'] = pd.to_datetime(rtmovie_df['dvd_date'])\n",
    "# create release month column\n",
    "rtmovie_df['release_month'] = rtmovie_df['dvd_date'].dt.strftime('%B')"
   ]
  },
  {
   "cell_type": "code",
   "execution_count": 42,
   "metadata": {},
   "outputs": [
    {
     "data": {
      "text/plain": [
       "release_month\n",
       "March        128\n",
       "May          117\n",
       "October      110\n",
       "September    107\n",
       "February     107\n",
       "November     102\n",
       "June          99\n",
       "August        98\n",
       "April         93\n",
       "January       81\n",
       "July          81\n",
       "December      78\n",
       "Name: count, dtype: int64"
      ]
     },
     "execution_count": 42,
     "metadata": {},
     "output_type": "execute_result"
    }
   ],
   "source": [
    "# checking for successful column creation\n",
    "rtmovie_df['release_month'].value_counts()"
   ]
  },
  {
   "cell_type": "code",
   "execution_count": 59,
   "metadata": {},
   "outputs": [
    {
     "data": {
      "text/plain": [
       "<Axes: >"
      ]
     },
     "execution_count": 59,
     "metadata": {},
     "output_type": "execute_result"
    },
    {
     "data": {
      "image/png": "[encoded data removed]",
      "text/plain": [
       "<Figure size 1000x1200 with 1 Axes>"
      ]
     },
     "metadata": {},
     "output_type": "display_data"
    }
   ],
   "source": [
    "#visualizing this on a histogram, we'll have\n",
    "\n",
    "rtmovie_df['release_month'].hist(bins=12, figsize=(10,12), color=('k'))"
   ]
  },
  {
   "cell_type": "code",
   "execution_count": 44,
   "metadata": {},
   "outputs": [
    {
     "data": {
      "text/html": [
       "<div>\n",
       "<style scoped>\n",
       "    .dataframe tbody tr th:only-of-type {\n",
       "        vertical-align: middle;\n",
       "    }\n",
       "\n",
       "    .dataframe tbody tr th {\n",
       "        vertical-align: top;\n",
       "    }\n",
       "\n",
       "    .dataframe thead th {\n",
       "        text-align: right;\n",
       "    }\n",
       "</style>\n",
       "<table border=\"1\" class=\"dataframe\">\n",
       "  <thead>\n",
       "    <tr style=\"text-align: right;\">\n",
       "      <th></th>\n",
       "      <th>synopsis</th>\n",
       "      <th>rating</th>\n",
       "      <th>genre</th>\n",
       "      <th>director</th>\n",
       "      <th>writer</th>\n",
       "      <th>theater_date</th>\n",
       "      <th>dvd_date</th>\n",
       "      <th>currency</th>\n",
       "      <th>box_office</th>\n",
       "      <th>runtime</th>\n",
       "      <th>studio</th>\n",
       "      <th>first_genre</th>\n",
       "      <th>release_month</th>\n",
       "    </tr>\n",
       "  </thead>\n",
       "  <tbody>\n",
       "    <tr>\n",
       "      <th>0</th>\n",
       "      <td>This gritty, fast-paced, and innovative police...</td>\n",
       "      <td>R</td>\n",
       "      <td>Action and Adventure|Classics|Drama</td>\n",
       "      <td>William Friedkin</td>\n",
       "      <td>Ernest Tidyman</td>\n",
       "      <td>Oct 9, 1971</td>\n",
       "      <td>2001-09-25</td>\n",
       "      <td>NaN</td>\n",
       "      <td>NaN</td>\n",
       "      <td>104 minutes</td>\n",
       "      <td>NaN</td>\n",
       "      <td>Action and Adventure|Classics|Drama</td>\n",
       "      <td>September</td>\n",
       "    </tr>\n",
       "    <tr>\n",
       "      <th>1</th>\n",
       "      <td>New York City, not-too-distant-future: Eric Pa...</td>\n",
       "      <td>R</td>\n",
       "      <td>Drama|Science Fiction and Fantasy</td>\n",
       "      <td>David Cronenberg</td>\n",
       "      <td>David Cronenberg|Don DeLillo</td>\n",
       "      <td>Aug 17, 2012</td>\n",
       "      <td>2013-01-01</td>\n",
       "      <td>$</td>\n",
       "      <td>600,000</td>\n",
       "      <td>108 minutes</td>\n",
       "      <td>Entertainment One</td>\n",
       "      <td>Drama|Science Fiction and Fantasy</td>\n",
       "      <td>January</td>\n",
       "    </tr>\n",
       "    <tr>\n",
       "      <th>2</th>\n",
       "      <td>Illeana Douglas delivers a superb performance ...</td>\n",
       "      <td>R</td>\n",
       "      <td>Drama|Musical and Performing Arts</td>\n",
       "      <td>Allison Anders</td>\n",
       "      <td>Allison Anders</td>\n",
       "      <td>Sep 13, 1996</td>\n",
       "      <td>2000-04-18</td>\n",
       "      <td>NaN</td>\n",
       "      <td>NaN</td>\n",
       "      <td>116 minutes</td>\n",
       "      <td>NaN</td>\n",
       "      <td>Drama|Musical and Performing Arts</td>\n",
       "      <td>April</td>\n",
       "    </tr>\n",
       "    <tr>\n",
       "      <th>3</th>\n",
       "      <td>Michael Douglas runs afoul of a treacherous su...</td>\n",
       "      <td>R</td>\n",
       "      <td>Drama|Mystery and Suspense</td>\n",
       "      <td>Barry Levinson</td>\n",
       "      <td>Paul Attanasio|Michael Crichton</td>\n",
       "      <td>Dec 9, 1994</td>\n",
       "      <td>1997-08-27</td>\n",
       "      <td>NaN</td>\n",
       "      <td>NaN</td>\n",
       "      <td>128 minutes</td>\n",
       "      <td>NaN</td>\n",
       "      <td>Drama|Mystery and Suspense</td>\n",
       "      <td>August</td>\n",
       "    </tr>\n",
       "    <tr>\n",
       "      <th>4</th>\n",
       "      <td>NaN</td>\n",
       "      <td>NR</td>\n",
       "      <td>Drama|Romance</td>\n",
       "      <td>Rodney Bennett</td>\n",
       "      <td>Giles Cooper</td>\n",
       "      <td>NaN</td>\n",
       "      <td>NaT</td>\n",
       "      <td>NaN</td>\n",
       "      <td>NaN</td>\n",
       "      <td>200 minutes</td>\n",
       "      <td>NaN</td>\n",
       "      <td>Drama|Romance</td>\n",
       "      <td>NaN</td>\n",
       "    </tr>\n",
       "    <tr>\n",
       "      <th>...</th>\n",
       "      <td>...</td>\n",
       "      <td>...</td>\n",
       "      <td>...</td>\n",
       "      <td>...</td>\n",
       "      <td>...</td>\n",
       "      <td>...</td>\n",
       "      <td>...</td>\n",
       "      <td>...</td>\n",
       "      <td>...</td>\n",
       "      <td>...</td>\n",
       "      <td>...</td>\n",
       "      <td>...</td>\n",
       "      <td>...</td>\n",
       "    </tr>\n",
       "    <tr>\n",
       "      <th>1555</th>\n",
       "      <td>Forget terrorists or hijackers -- there's a ha...</td>\n",
       "      <td>R</td>\n",
       "      <td>Action and Adventure|Horror|Mystery and Suspense</td>\n",
       "      <td>NaN</td>\n",
       "      <td>NaN</td>\n",
       "      <td>Aug 18, 2006</td>\n",
       "      <td>2007-01-02</td>\n",
       "      <td>$</td>\n",
       "      <td>33,886,034</td>\n",
       "      <td>106 minutes</td>\n",
       "      <td>New Line Cinema</td>\n",
       "      <td>Action and Adventure|Horror|Mystery and Suspense</td>\n",
       "      <td>January</td>\n",
       "    </tr>\n",
       "    <tr>\n",
       "      <th>1556</th>\n",
       "      <td>The popular Saturday Night Live sketch was exp...</td>\n",
       "      <td>PG</td>\n",
       "      <td>Comedy|Science Fiction and Fantasy</td>\n",
       "      <td>Steve Barron</td>\n",
       "      <td>Terry Turner|Tom Davis|Dan Aykroyd|Bonnie Turner</td>\n",
       "      <td>Jul 23, 1993</td>\n",
       "      <td>2001-04-17</td>\n",
       "      <td>NaN</td>\n",
       "      <td>NaN</td>\n",
       "      <td>88 minutes</td>\n",
       "      <td>Paramount Vantage</td>\n",
       "      <td>Comedy|Science Fiction and Fantasy</td>\n",
       "      <td>April</td>\n",
       "    </tr>\n",
       "    <tr>\n",
       "      <th>1557</th>\n",
       "      <td>Based on a novel by Richard Powell, when the l...</td>\n",
       "      <td>G</td>\n",
       "      <td>Classics|Comedy|Drama|Musical and Performing Arts</td>\n",
       "      <td>Gordon Douglas</td>\n",
       "      <td>NaN</td>\n",
       "      <td>Jan 1, 1962</td>\n",
       "      <td>2004-05-11</td>\n",
       "      <td>NaN</td>\n",
       "      <td>NaN</td>\n",
       "      <td>111 minutes</td>\n",
       "      <td>NaN</td>\n",
       "      <td>Classics|Comedy|Drama|Musical and Performing Arts</td>\n",
       "      <td>May</td>\n",
       "    </tr>\n",
       "    <tr>\n",
       "      <th>1558</th>\n",
       "      <td>The Sandlot is a coming-of-age story about a g...</td>\n",
       "      <td>PG</td>\n",
       "      <td>Comedy|Drama|Kids and Family|Sports and Fitness</td>\n",
       "      <td>David Mickey Evans</td>\n",
       "      <td>David Mickey Evans|Robert Gunter</td>\n",
       "      <td>Apr 1, 1993</td>\n",
       "      <td>2002-01-29</td>\n",
       "      <td>NaN</td>\n",
       "      <td>NaN</td>\n",
       "      <td>101 minutes</td>\n",
       "      <td>NaN</td>\n",
       "      <td>Comedy|Drama|Kids and Family|Sports and Fitness</td>\n",
       "      <td>January</td>\n",
       "    </tr>\n",
       "    <tr>\n",
       "      <th>1559</th>\n",
       "      <td>Suspended from the force, Paris cop Hubert is ...</td>\n",
       "      <td>R</td>\n",
       "      <td>Action and Adventure|Art House and Internation...</td>\n",
       "      <td>NaN</td>\n",
       "      <td>Luc Besson</td>\n",
       "      <td>Sep 27, 2001</td>\n",
       "      <td>2003-02-11</td>\n",
       "      <td>NaN</td>\n",
       "      <td>NaN</td>\n",
       "      <td>94 minutes</td>\n",
       "      <td>Columbia Pictures</td>\n",
       "      <td>Action and Adventure|Art House and Internation...</td>\n",
       "      <td>February</td>\n",
       "    </tr>\n",
       "  </tbody>\n",
       "</table>\n",
       "<p>1560 rows × 13 columns</p>\n",
       "</div>"
      ],
      "text/plain": [
       "                                               synopsis rating   \n",
       "0     This gritty, fast-paced, and innovative police...      R  \\\n",
       "1     New York City, not-too-distant-future: Eric Pa...      R   \n",
       "2     Illeana Douglas delivers a superb performance ...      R   \n",
       "3     Michael Douglas runs afoul of a treacherous su...      R   \n",
       "4                                                   NaN     NR   \n",
       "...                                                 ...    ...   \n",
       "1555  Forget terrorists or hijackers -- there's a ha...      R   \n",
       "1556  The popular Saturday Night Live sketch was exp...     PG   \n",
       "1557  Based on a novel by Richard Powell, when the l...      G   \n",
       "1558  The Sandlot is a coming-of-age story about a g...     PG   \n",
       "1559  Suspended from the force, Paris cop Hubert is ...      R   \n",
       "\n",
       "                                                  genre            director   \n",
       "0                   Action and Adventure|Classics|Drama    William Friedkin  \\\n",
       "1                     Drama|Science Fiction and Fantasy    David Cronenberg   \n",
       "2                     Drama|Musical and Performing Arts      Allison Anders   \n",
       "3                            Drama|Mystery and Suspense      Barry Levinson   \n",
       "4                                         Drama|Romance      Rodney Bennett   \n",
       "...                                                 ...                 ...   \n",
       "1555   Action and Adventure|Horror|Mystery and Suspense                 NaN   \n",
       "1556                 Comedy|Science Fiction and Fantasy        Steve Barron   \n",
       "1557  Classics|Comedy|Drama|Musical and Performing Arts      Gordon Douglas   \n",
       "1558    Comedy|Drama|Kids and Family|Sports and Fitness  David Mickey Evans   \n",
       "1559  Action and Adventure|Art House and Internation...                 NaN   \n",
       "\n",
       "                                                writer  theater_date   \n",
       "0                                       Ernest Tidyman   Oct 9, 1971  \\\n",
       "1                         David Cronenberg|Don DeLillo  Aug 17, 2012   \n",
       "2                                       Allison Anders  Sep 13, 1996   \n",
       "3                      Paul Attanasio|Michael Crichton   Dec 9, 1994   \n",
       "4                                         Giles Cooper           NaN   \n",
       "...                                                ...           ...   \n",
       "1555                                               NaN  Aug 18, 2006   \n",
       "1556  Terry Turner|Tom Davis|Dan Aykroyd|Bonnie Turner  Jul 23, 1993   \n",
       "1557                                               NaN   Jan 1, 1962   \n",
       "1558                  David Mickey Evans|Robert Gunter   Apr 1, 1993   \n",
       "1559                                        Luc Besson  Sep 27, 2001   \n",
       "\n",
       "       dvd_date currency  box_office      runtime             studio   \n",
       "0    2001-09-25      NaN         NaN  104 minutes                NaN  \\\n",
       "1    2013-01-01        $     600,000  108 minutes  Entertainment One   \n",
       "2    2000-04-18      NaN         NaN  116 minutes                NaN   \n",
       "3    1997-08-27      NaN         NaN  128 minutes                NaN   \n",
       "4           NaT      NaN         NaN  200 minutes                NaN   \n",
       "...         ...      ...         ...          ...                ...   \n",
       "1555 2007-01-02        $  33,886,034  106 minutes    New Line Cinema   \n",
       "1556 2001-04-17      NaN         NaN   88 minutes  Paramount Vantage   \n",
       "1557 2004-05-11      NaN         NaN  111 minutes                NaN   \n",
       "1558 2002-01-29      NaN         NaN  101 minutes                NaN   \n",
       "1559 2003-02-11      NaN         NaN   94 minutes  Columbia Pictures   \n",
       "\n",
       "                                            first_genre release_month  \n",
       "0                   Action and Adventure|Classics|Drama     September  \n",
       "1                     Drama|Science Fiction and Fantasy       January  \n",
       "2                     Drama|Musical and Performing Arts         April  \n",
       "3                            Drama|Mystery and Suspense        August  \n",
       "4                                         Drama|Romance           NaN  \n",
       "...                                                 ...           ...  \n",
       "1555   Action and Adventure|Horror|Mystery and Suspense       January  \n",
       "1556                 Comedy|Science Fiction and Fantasy         April  \n",
       "1557  Classics|Comedy|Drama|Musical and Performing Arts           May  \n",
       "1558    Comedy|Drama|Kids and Family|Sports and Fitness       January  \n",
       "1559  Action and Adventure|Art House and Internation...      February  \n",
       "\n",
       "[1560 rows x 13 columns]"
      ]
     },
     "execution_count": 44,
     "metadata": {},
     "output_type": "execute_result"
    }
   ],
   "source": [
    "##Assesing df\n",
    "rtmovie_df"
   ]
  },
  {
   "attachments": {},
   "cell_type": "markdown",
   "metadata": {},
   "source": [
    "merging BOM data and Rotten Tomatoes dataframes\n"
   ]
  },
  {
   "cell_type": "code",
   "execution_count": 45,
   "metadata": {},
   "outputs": [
    {
     "data": {
      "text/plain": [
       "(9213, 16)"
      ]
     },
     "execution_count": 45,
     "metadata": {},
     "output_type": "execute_result"
    }
   ],
   "source": [
    "# merging the Dfs\n",
    "merged_df = pd.merge(rtmovie_df, mojo_df, how='outer')\n",
    "# previewing the new DataFrame\n",
    "merged_df.shape"
   ]
  },
  {
   "cell_type": "code",
   "execution_count": 46,
   "metadata": {},
   "outputs": [
    {
     "data": {
      "text/html": [
       "<div>\n",
       "<style scoped>\n",
       "    .dataframe tbody tr th:only-of-type {\n",
       "        vertical-align: middle;\n",
       "    }\n",
       "\n",
       "    .dataframe tbody tr th {\n",
       "        vertical-align: top;\n",
       "    }\n",
       "\n",
       "    .dataframe thead th {\n",
       "        text-align: right;\n",
       "    }\n",
       "</style>\n",
       "<table border=\"1\" class=\"dataframe\">\n",
       "  <thead>\n",
       "    <tr style=\"text-align: right;\">\n",
       "      <th></th>\n",
       "      <th>synopsis</th>\n",
       "      <th>rating</th>\n",
       "      <th>genre</th>\n",
       "      <th>director</th>\n",
       "      <th>writer</th>\n",
       "      <th>theater_date</th>\n",
       "      <th>dvd_date</th>\n",
       "      <th>currency</th>\n",
       "      <th>box_office</th>\n",
       "      <th>runtime</th>\n",
       "      <th>studio</th>\n",
       "      <th>first_genre</th>\n",
       "      <th>release_month</th>\n",
       "      <th>domestic_gross</th>\n",
       "      <th>foreign_gross</th>\n",
       "      <th>year</th>\n",
       "    </tr>\n",
       "  </thead>\n",
       "  <tbody>\n",
       "    <tr>\n",
       "      <th>0</th>\n",
       "      <td>This gritty, fast-paced, and innovative police...</td>\n",
       "      <td>R</td>\n",
       "      <td>Action and Adventure|Classics|Drama</td>\n",
       "      <td>William Friedkin</td>\n",
       "      <td>Ernest Tidyman</td>\n",
       "      <td>Oct 9, 1971</td>\n",
       "      <td>2001-09-25</td>\n",
       "      <td>NaN</td>\n",
       "      <td>NaN</td>\n",
       "      <td>104 minutes</td>\n",
       "      <td>NaN</td>\n",
       "      <td>Action and Adventure|Classics|Drama</td>\n",
       "      <td>September</td>\n",
       "      <td>96900.0</td>\n",
       "      <td>3300000</td>\n",
       "      <td>2010.0</td>\n",
       "    </tr>\n",
       "    <tr>\n",
       "      <th>1</th>\n",
       "      <td>This gritty, fast-paced, and innovative police...</td>\n",
       "      <td>R</td>\n",
       "      <td>Action and Adventure|Classics|Drama</td>\n",
       "      <td>William Friedkin</td>\n",
       "      <td>Ernest Tidyman</td>\n",
       "      <td>Oct 9, 1971</td>\n",
       "      <td>2001-09-25</td>\n",
       "      <td>NaN</td>\n",
       "      <td>NaN</td>\n",
       "      <td>104 minutes</td>\n",
       "      <td>NaN</td>\n",
       "      <td>Action and Adventure|Classics|Drama</td>\n",
       "      <td>September</td>\n",
       "      <td>70600.0</td>\n",
       "      <td>3300000</td>\n",
       "      <td>2011.0</td>\n",
       "    </tr>\n",
       "    <tr>\n",
       "      <th>2</th>\n",
       "      <td>This gritty, fast-paced, and innovative police...</td>\n",
       "      <td>R</td>\n",
       "      <td>Action and Adventure|Classics|Drama</td>\n",
       "      <td>William Friedkin</td>\n",
       "      <td>Ernest Tidyman</td>\n",
       "      <td>Oct 9, 1971</td>\n",
       "      <td>2001-09-25</td>\n",
       "      <td>NaN</td>\n",
       "      <td>NaN</td>\n",
       "      <td>104 minutes</td>\n",
       "      <td>NaN</td>\n",
       "      <td>Action and Adventure|Classics|Drama</td>\n",
       "      <td>September</td>\n",
       "      <td>NaN</td>\n",
       "      <td>4000000</td>\n",
       "      <td>2012.0</td>\n",
       "    </tr>\n",
       "    <tr>\n",
       "      <th>3</th>\n",
       "      <td>This gritty, fast-paced, and innovative police...</td>\n",
       "      <td>R</td>\n",
       "      <td>Action and Adventure|Classics|Drama</td>\n",
       "      <td>William Friedkin</td>\n",
       "      <td>Ernest Tidyman</td>\n",
       "      <td>Oct 9, 1971</td>\n",
       "      <td>2001-09-25</td>\n",
       "      <td>NaN</td>\n",
       "      <td>NaN</td>\n",
       "      <td>104 minutes</td>\n",
       "      <td>NaN</td>\n",
       "      <td>Action and Adventure|Classics|Drama</td>\n",
       "      <td>September</td>\n",
       "      <td>7100.0</td>\n",
       "      <td>NaN</td>\n",
       "      <td>2014.0</td>\n",
       "    </tr>\n",
       "    <tr>\n",
       "      <th>4</th>\n",
       "      <td>This gritty, fast-paced, and innovative police...</td>\n",
       "      <td>R</td>\n",
       "      <td>Action and Adventure|Classics|Drama</td>\n",
       "      <td>William Friedkin</td>\n",
       "      <td>Ernest Tidyman</td>\n",
       "      <td>Oct 9, 1971</td>\n",
       "      <td>2001-09-25</td>\n",
       "      <td>NaN</td>\n",
       "      <td>NaN</td>\n",
       "      <td>104 minutes</td>\n",
       "      <td>NaN</td>\n",
       "      <td>Action and Adventure|Classics|Drama</td>\n",
       "      <td>September</td>\n",
       "      <td>NaN</td>\n",
       "      <td>122000000</td>\n",
       "      <td>2017.0</td>\n",
       "    </tr>\n",
       "  </tbody>\n",
       "</table>\n",
       "</div>"
      ],
      "text/plain": [
       "                                            synopsis rating   \n",
       "0  This gritty, fast-paced, and innovative police...      R  \\\n",
       "1  This gritty, fast-paced, and innovative police...      R   \n",
       "2  This gritty, fast-paced, and innovative police...      R   \n",
       "3  This gritty, fast-paced, and innovative police...      R   \n",
       "4  This gritty, fast-paced, and innovative police...      R   \n",
       "\n",
       "                                 genre          director          writer   \n",
       "0  Action and Adventure|Classics|Drama  William Friedkin  Ernest Tidyman  \\\n",
       "1  Action and Adventure|Classics|Drama  William Friedkin  Ernest Tidyman   \n",
       "2  Action and Adventure|Classics|Drama  William Friedkin  Ernest Tidyman   \n",
       "3  Action and Adventure|Classics|Drama  William Friedkin  Ernest Tidyman   \n",
       "4  Action and Adventure|Classics|Drama  William Friedkin  Ernest Tidyman   \n",
       "\n",
       "  theater_date   dvd_date currency box_office      runtime studio   \n",
       "0  Oct 9, 1971 2001-09-25      NaN        NaN  104 minutes    NaN  \\\n",
       "1  Oct 9, 1971 2001-09-25      NaN        NaN  104 minutes    NaN   \n",
       "2  Oct 9, 1971 2001-09-25      NaN        NaN  104 minutes    NaN   \n",
       "3  Oct 9, 1971 2001-09-25      NaN        NaN  104 minutes    NaN   \n",
       "4  Oct 9, 1971 2001-09-25      NaN        NaN  104 minutes    NaN   \n",
       "\n",
       "                           first_genre release_month  domestic_gross   \n",
       "0  Action and Adventure|Classics|Drama     September         96900.0  \\\n",
       "1  Action and Adventure|Classics|Drama     September         70600.0   \n",
       "2  Action and Adventure|Classics|Drama     September             NaN   \n",
       "3  Action and Adventure|Classics|Drama     September          7100.0   \n",
       "4  Action and Adventure|Classics|Drama     September             NaN   \n",
       "\n",
       "  foreign_gross    year  \n",
       "0       3300000  2010.0  \n",
       "1       3300000  2011.0  \n",
       "2       4000000  2012.0  \n",
       "3           NaN  2014.0  \n",
       "4     122000000  2017.0  "
      ]
     },
     "execution_count": 46,
     "metadata": {},
     "output_type": "execute_result"
    }
   ],
   "source": [
    "merged_df.head()"
   ]
  },
  {
   "cell_type": "code",
   "execution_count": 47,
   "metadata": {},
   "outputs": [
    {
     "data": {
      "text/plain": [
       "(9213, 16)"
      ]
     },
     "execution_count": 47,
     "metadata": {},
     "output_type": "execute_result"
    }
   ],
   "source": [
    "# show number of rows and columns\n",
    "merged_df.shape"
   ]
  },
  {
   "cell_type": "code",
   "execution_count": 48,
   "metadata": {},
   "outputs": [
    {
     "data": {
      "text/plain": [
       "Index(['synopsis', 'rating', 'genre', 'director', 'writer', 'theater_date',\n",
       "       'dvd_date', 'currency', 'box_office', 'runtime', 'studio',\n",
       "       'first_genre', 'release_month', 'domestic_gross', 'foreign_gross',\n",
       "       'year'],\n",
       "      dtype='object')"
      ]
     },
     "execution_count": 48,
     "metadata": {},
     "output_type": "execute_result"
    }
   ],
   "source": [
    "# show all column names\n",
    "merged_df.columns"
   ]
  },
  {
   "cell_type": "code",
   "execution_count": 49,
   "metadata": {},
   "outputs": [
    {
     "data": {
      "text/plain": [
       "genre\n",
       "Drama|Mystery and Suspense                                                                      531\n",
       "Drama                                                                                           489\n",
       "Comedy|Drama                                                                                    421\n",
       "Comedy                                                                                          338\n",
       "Art House and International|Drama                                                               274\n",
       "                                                                                               ... \n",
       "Action and Adventure|Animation|Science Fiction and Fantasy                                        1\n",
       "Action and Adventure|Animation|Drama|Science Fiction and Fantasy|Special Interest                 1\n",
       "Kids and Family|Musical and Performing Arts                                                       1\n",
       "Action and Adventure|Animation|Art House and International|Drama|Science Fiction and Fantasy      1\n",
       "Art House and International|Documentary|Faith and Spirituality                                    1\n",
       "Name: count, Length: 299, dtype: int64"
      ]
     },
     "execution_count": 49,
     "metadata": {},
     "output_type": "execute_result"
    }
   ],
   "source": [
    " #counts per genre of the merged dataframe\n",
    "\n",
    "count = merged_df['genre'].value_counts()\n",
    "count"
   ]
  },
  {
   "cell_type": "code",
   "execution_count": 50,
   "metadata": {},
   "outputs": [
    {
     "data": {
      "text/plain": [
       "genre\n",
       "Drama|Mystery and Suspense                                531\n",
       "Drama                                                     489\n",
       "Comedy|Drama                                              421\n",
       "Comedy                                                    338\n",
       "Art House and International|Drama                         274\n",
       "Action and Adventure|Drama|Mystery and Suspense           152\n",
       "Action and Adventure|Drama                                152\n",
       "Drama|Romance                                             133\n",
       "Art House and International|Comedy|Drama                  131\n",
       "Horror                                                    123\n",
       "Comedy|Romance                                            104\n",
       "Classics|Drama                                             97\n",
       "Action and Adventure                                       91\n",
       "Classics|Drama|Mystery and Suspense                        90\n",
       "Comedy|Drama|Romance                                       71\n",
       "Action and Adventure|Science Fiction and Fantasy           68\n",
       "Action and Adventure|Mystery and Suspense                  58\n",
       "Action and Adventure|Art House and International|Drama     57\n",
       "Comedy|Science Fiction and Fantasy                         57\n",
       "Drama|Horror                                               55\n",
       "Name: count, dtype: int64"
      ]
     },
     "execution_count": 50,
     "metadata": {},
     "output_type": "execute_result"
    }
   ],
   "source": [
    "pop_genres = count.iloc[:20]\n",
    "pop_genres"
   ]
  },
  {
   "cell_type": "code",
   "execution_count": 51,
   "metadata": {},
   "outputs": [
    {
     "data": {
      "text/plain": [
       "<Axes: title={'center': 'Top Popular Genres'}, xlabel='genre'>"
      ]
     },
     "execution_count": 51,
     "metadata": {},
     "output_type": "execute_result"
    },
    {
     "data": {
      "image/png": "[encoded data removed]",
      "text/plain": [
       "<Figure size 640x480 with 1 Axes>"
      ]
     },
     "metadata": {},
     "output_type": "display_data"
    }
   ],
   "source": [
    "#top 20 popular movies that is with the most value counts represented in a graph:\n",
    "\n",
    "pop_genres.plot.bar(x = 'genres', title = 'Top Popular Genres', colormap='coolwarm')"
   ]
  },
  {
   "cell_type": "code",
   "execution_count": 52,
   "metadata": {},
   "outputs": [
    {
     "data": {
      "text/html": [
       "<div>\n",
       "<style scoped>\n",
       "    .dataframe tbody tr th:only-of-type {\n",
       "        vertical-align: middle;\n",
       "    }\n",
       "\n",
       "    .dataframe tbody tr th {\n",
       "        vertical-align: top;\n",
       "    }\n",
       "\n",
       "    .dataframe thead th {\n",
       "        text-align: right;\n",
       "    }\n",
       "</style>\n",
       "<table border=\"1\" class=\"dataframe\">\n",
       "  <thead>\n",
       "    <tr style=\"text-align: right;\">\n",
       "      <th></th>\n",
       "      <th>median</th>\n",
       "      <th>mean</th>\n",
       "    </tr>\n",
       "    <tr>\n",
       "      <th>genre</th>\n",
       "      <th></th>\n",
       "      <th></th>\n",
       "    </tr>\n",
       "  </thead>\n",
       "  <tbody>\n",
       "    <tr>\n",
       "      <th>Drama|Mystery and Suspense</th>\n",
       "      <td>30350000.0</td>\n",
       "      <td>5.553751e+07</td>\n",
       "    </tr>\n",
       "    <tr>\n",
       "      <th>Art House and International|Comedy|Drama|Musical and Performing Arts</th>\n",
       "      <td>17048450.0</td>\n",
       "      <td>3.336243e+07</td>\n",
       "    </tr>\n",
       "    <tr>\n",
       "      <th>Drama|Horror|Mystery and Suspense</th>\n",
       "      <td>70600.0</td>\n",
       "      <td>8.384258e+06</td>\n",
       "    </tr>\n",
       "    <tr>\n",
       "      <th>Action and Adventure|Mystery and Suspense</th>\n",
       "      <td>70600.0</td>\n",
       "      <td>6.719047e+06</td>\n",
       "    </tr>\n",
       "    <tr>\n",
       "      <th>Drama|Horror</th>\n",
       "      <td>1500000.0</td>\n",
       "      <td>6.237862e+06</td>\n",
       "    </tr>\n",
       "    <tr>\n",
       "      <th>...</th>\n",
       "      <td>...</td>\n",
       "      <td>...</td>\n",
       "    </tr>\n",
       "    <tr>\n",
       "      <th>Horror|Kids and Family|Mystery and Suspense|Science Fiction and Fantasy</th>\n",
       "      <td>NaN</td>\n",
       "      <td>NaN</td>\n",
       "    </tr>\n",
       "    <tr>\n",
       "      <th>Horror|Musical and Performing Arts|Science Fiction and Fantasy</th>\n",
       "      <td>NaN</td>\n",
       "      <td>NaN</td>\n",
       "    </tr>\n",
       "    <tr>\n",
       "      <th>Horror|Mystery and Suspense|Science Fiction and Fantasy</th>\n",
       "      <td>NaN</td>\n",
       "      <td>NaN</td>\n",
       "    </tr>\n",
       "    <tr>\n",
       "      <th>Kids and Family|Musical and Performing Arts</th>\n",
       "      <td>NaN</td>\n",
       "      <td>NaN</td>\n",
       "    </tr>\n",
       "    <tr>\n",
       "      <th>Mystery and Suspense|Science Fiction and Fantasy|Western</th>\n",
       "      <td>NaN</td>\n",
       "      <td>NaN</td>\n",
       "    </tr>\n",
       "  </tbody>\n",
       "</table>\n",
       "<p>299 rows × 2 columns</p>\n",
       "</div>"
      ],
      "text/plain": [
       "                                                        median          mean\n",
       "genre                                                                       \n",
       "Drama|Mystery and Suspense                          30350000.0  5.553751e+07\n",
       "Art House and International|Comedy|Drama|Musica...  17048450.0  3.336243e+07\n",
       "Drama|Horror|Mystery and Suspense                      70600.0  8.384258e+06\n",
       "Action and Adventure|Mystery and Suspense              70600.0  6.719047e+06\n",
       "Drama|Horror                                         1500000.0  6.237862e+06\n",
       "...                                                        ...           ...\n",
       "Horror|Kids and Family|Mystery and Suspense|Sci...         NaN           NaN\n",
       "Horror|Musical and Performing Arts|Science Fict...         NaN           NaN\n",
       "Horror|Mystery and Suspense|Science Fiction and...         NaN           NaN\n",
       "Kids and Family|Musical and Performing Arts                NaN           NaN\n",
       "Mystery and Suspense|Science Fiction and Fantas...         NaN           NaN\n",
       "\n",
       "[299 rows x 2 columns]"
      ]
     },
     "execution_count": 52,
     "metadata": {},
     "output_type": "execute_result"
    }
   ],
   "source": [
    "# getting mean and median world domestic amounts by genre\n",
    "\n",
    "genre_stats = merged_df.groupby('genre')['domestic_gross'].agg(['median', 'mean'])\n",
    "genre_stats.sort_values(by='mean', ascending=False)"
   ]
  },
  {
   "cell_type": "code",
   "execution_count": 53,
   "metadata": {},
   "outputs": [
    {
     "data": {
      "text/html": [
       "<div>\n",
       "<style scoped>\n",
       "    .dataframe tbody tr th:only-of-type {\n",
       "        vertical-align: middle;\n",
       "    }\n",
       "\n",
       "    .dataframe tbody tr th {\n",
       "        vertical-align: top;\n",
       "    }\n",
       "\n",
       "    .dataframe thead th {\n",
       "        text-align: right;\n",
       "    }\n",
       "</style>\n",
       "<table border=\"1\" class=\"dataframe\">\n",
       "  <thead>\n",
       "    <tr style=\"text-align: right;\">\n",
       "      <th></th>\n",
       "      <th>synopsis</th>\n",
       "      <th>rating</th>\n",
       "      <th>genre</th>\n",
       "      <th>director</th>\n",
       "      <th>writer</th>\n",
       "      <th>theater_date</th>\n",
       "      <th>dvd_date</th>\n",
       "      <th>currency</th>\n",
       "      <th>box_office</th>\n",
       "      <th>runtime</th>\n",
       "      <th>studio</th>\n",
       "      <th>first_genre</th>\n",
       "      <th>release_month</th>\n",
       "      <th>domestic_gross</th>\n",
       "      <th>foreign_gross</th>\n",
       "      <th>year</th>\n",
       "    </tr>\n",
       "  </thead>\n",
       "  <tbody>\n",
       "    <tr>\n",
       "      <th>10</th>\n",
       "      <td>Michael Douglas runs afoul of a treacherous su...</td>\n",
       "      <td>R</td>\n",
       "      <td>Drama|Mystery and Suspense</td>\n",
       "      <td>Barry Levinson</td>\n",
       "      <td>Paul Attanasio|Michael Crichton</td>\n",
       "      <td>Dec 9, 1994</td>\n",
       "      <td>1997-08-27</td>\n",
       "      <td>NaN</td>\n",
       "      <td>NaN</td>\n",
       "      <td>128 minutes</td>\n",
       "      <td>NaN</td>\n",
       "      <td>Drama|Mystery and Suspense</td>\n",
       "      <td>August</td>\n",
       "      <td>96900.0</td>\n",
       "      <td>3300000</td>\n",
       "      <td>2010.0</td>\n",
       "    </tr>\n",
       "    <tr>\n",
       "      <th>11</th>\n",
       "      <td>Michael Douglas runs afoul of a treacherous su...</td>\n",
       "      <td>R</td>\n",
       "      <td>Drama|Mystery and Suspense</td>\n",
       "      <td>Barry Levinson</td>\n",
       "      <td>Paul Attanasio|Michael Crichton</td>\n",
       "      <td>Dec 9, 1994</td>\n",
       "      <td>1997-08-27</td>\n",
       "      <td>NaN</td>\n",
       "      <td>NaN</td>\n",
       "      <td>128 minutes</td>\n",
       "      <td>NaN</td>\n",
       "      <td>Drama|Mystery and Suspense</td>\n",
       "      <td>August</td>\n",
       "      <td>70600.0</td>\n",
       "      <td>3300000</td>\n",
       "      <td>2011.0</td>\n",
       "    </tr>\n",
       "    <tr>\n",
       "      <th>12</th>\n",
       "      <td>Michael Douglas runs afoul of a treacherous su...</td>\n",
       "      <td>R</td>\n",
       "      <td>Drama|Mystery and Suspense</td>\n",
       "      <td>Barry Levinson</td>\n",
       "      <td>Paul Attanasio|Michael Crichton</td>\n",
       "      <td>Dec 9, 1994</td>\n",
       "      <td>1997-08-27</td>\n",
       "      <td>NaN</td>\n",
       "      <td>NaN</td>\n",
       "      <td>128 minutes</td>\n",
       "      <td>NaN</td>\n",
       "      <td>Drama|Mystery and Suspense</td>\n",
       "      <td>August</td>\n",
       "      <td>NaN</td>\n",
       "      <td>4000000</td>\n",
       "      <td>2012.0</td>\n",
       "    </tr>\n",
       "    <tr>\n",
       "      <th>13</th>\n",
       "      <td>Michael Douglas runs afoul of a treacherous su...</td>\n",
       "      <td>R</td>\n",
       "      <td>Drama|Mystery and Suspense</td>\n",
       "      <td>Barry Levinson</td>\n",
       "      <td>Paul Attanasio|Michael Crichton</td>\n",
       "      <td>Dec 9, 1994</td>\n",
       "      <td>1997-08-27</td>\n",
       "      <td>NaN</td>\n",
       "      <td>NaN</td>\n",
       "      <td>128 minutes</td>\n",
       "      <td>NaN</td>\n",
       "      <td>Drama|Mystery and Suspense</td>\n",
       "      <td>August</td>\n",
       "      <td>7100.0</td>\n",
       "      <td>NaN</td>\n",
       "      <td>2014.0</td>\n",
       "    </tr>\n",
       "    <tr>\n",
       "      <th>14</th>\n",
       "      <td>Michael Douglas runs afoul of a treacherous su...</td>\n",
       "      <td>R</td>\n",
       "      <td>Drama|Mystery and Suspense</td>\n",
       "      <td>Barry Levinson</td>\n",
       "      <td>Paul Attanasio|Michael Crichton</td>\n",
       "      <td>Dec 9, 1994</td>\n",
       "      <td>1997-08-27</td>\n",
       "      <td>NaN</td>\n",
       "      <td>NaN</td>\n",
       "      <td>128 minutes</td>\n",
       "      <td>NaN</td>\n",
       "      <td>Drama|Mystery and Suspense</td>\n",
       "      <td>August</td>\n",
       "      <td>NaN</td>\n",
       "      <td>122000000</td>\n",
       "      <td>2017.0</td>\n",
       "    </tr>\n",
       "    <tr>\n",
       "      <th>...</th>\n",
       "      <td>...</td>\n",
       "      <td>...</td>\n",
       "      <td>...</td>\n",
       "      <td>...</td>\n",
       "      <td>...</td>\n",
       "      <td>...</td>\n",
       "      <td>...</td>\n",
       "      <td>...</td>\n",
       "      <td>...</td>\n",
       "      <td>...</td>\n",
       "      <td>...</td>\n",
       "      <td>...</td>\n",
       "      <td>...</td>\n",
       "      <td>...</td>\n",
       "      <td>...</td>\n",
       "      <td>...</td>\n",
       "    </tr>\n",
       "    <tr>\n",
       "      <th>5968</th>\n",
       "      <td>Directed by Clint Eastwood, the mysterious dra...</td>\n",
       "      <td>R</td>\n",
       "      <td>Drama|Mystery and Suspense</td>\n",
       "      <td>Clint Eastwood</td>\n",
       "      <td>Brian Helgeland</td>\n",
       "      <td>Oct 8, 2003</td>\n",
       "      <td>2004-06-08</td>\n",
       "      <td>$</td>\n",
       "      <td>88,800,000</td>\n",
       "      <td>137 minutes</td>\n",
       "      <td>WB</td>\n",
       "      <td>Drama|Mystery and Suspense</td>\n",
       "      <td>June</td>\n",
       "      <td>3200000.0</td>\n",
       "      <td>NaN</td>\n",
       "      <td>2018.0</td>\n",
       "    </tr>\n",
       "    <tr>\n",
       "      <th>6002</th>\n",
       "      <td>Abel Ferrara's cult crime drama Bad Lieutenant...</td>\n",
       "      <td>R</td>\n",
       "      <td>Drama|Mystery and Suspense</td>\n",
       "      <td>Werner Herzog</td>\n",
       "      <td>NaN</td>\n",
       "      <td>Nov 20, 2009</td>\n",
       "      <td>2010-04-06</td>\n",
       "      <td>$</td>\n",
       "      <td>1,616,556</td>\n",
       "      <td>121 minutes</td>\n",
       "      <td>First Look Pictures</td>\n",
       "      <td>Drama|Mystery and Suspense</td>\n",
       "      <td>April</td>\n",
       "      <td>NaN</td>\n",
       "      <td>NaN</td>\n",
       "      <td>NaN</td>\n",
       "    </tr>\n",
       "    <tr>\n",
       "      <th>6212</th>\n",
       "      <td>Filmed in the California desert on Super 16mm,...</td>\n",
       "      <td>NR</td>\n",
       "      <td>Drama|Mystery and Suspense</td>\n",
       "      <td>Oren Shai</td>\n",
       "      <td>Oren Shai|Webb Wilcoxen</td>\n",
       "      <td>Oct 28, 2016</td>\n",
       "      <td>2016-12-06</td>\n",
       "      <td>NaN</td>\n",
       "      <td>NaN</td>\n",
       "      <td>88 minutes</td>\n",
       "      <td>Rocking Films</td>\n",
       "      <td>Drama|Mystery and Suspense</td>\n",
       "      <td>December</td>\n",
       "      <td>NaN</td>\n",
       "      <td>NaN</td>\n",
       "      <td>NaN</td>\n",
       "    </tr>\n",
       "    <tr>\n",
       "      <th>6285</th>\n",
       "      <td>Frankie is a Los Angeles drug dealer. He comes...</td>\n",
       "      <td>R</td>\n",
       "      <td>Drama|Mystery and Suspense</td>\n",
       "      <td>Nick Cassavetes</td>\n",
       "      <td>Nick Cassavetes</td>\n",
       "      <td>Jan 12, 2007</td>\n",
       "      <td>2007-05-01</td>\n",
       "      <td>$</td>\n",
       "      <td>15,133,185</td>\n",
       "      <td>118 minutes</td>\n",
       "      <td>Universal Studios</td>\n",
       "      <td>Drama|Mystery and Suspense</td>\n",
       "      <td>May</td>\n",
       "      <td>NaN</td>\n",
       "      <td>NaN</td>\n",
       "      <td>NaN</td>\n",
       "    </tr>\n",
       "    <tr>\n",
       "      <th>6303</th>\n",
       "      <td>Texas brothers--Toby (Chris Pine), and Tanner ...</td>\n",
       "      <td>R</td>\n",
       "      <td>Drama|Mystery and Suspense</td>\n",
       "      <td>David Mackenzie</td>\n",
       "      <td>Taylor Sheridan</td>\n",
       "      <td>Aug 12, 2016</td>\n",
       "      <td>2016-11-22</td>\n",
       "      <td>$</td>\n",
       "      <td>26,973,524</td>\n",
       "      <td>102 minutes</td>\n",
       "      <td>Film 44</td>\n",
       "      <td>Drama|Mystery and Suspense</td>\n",
       "      <td>November</td>\n",
       "      <td>NaN</td>\n",
       "      <td>NaN</td>\n",
       "      <td>NaN</td>\n",
       "    </tr>\n",
       "  </tbody>\n",
       "</table>\n",
       "<p>531 rows × 16 columns</p>\n",
       "</div>"
      ],
      "text/plain": [
       "                                               synopsis rating   \n",
       "10    Michael Douglas runs afoul of a treacherous su...      R  \\\n",
       "11    Michael Douglas runs afoul of a treacherous su...      R   \n",
       "12    Michael Douglas runs afoul of a treacherous su...      R   \n",
       "13    Michael Douglas runs afoul of a treacherous su...      R   \n",
       "14    Michael Douglas runs afoul of a treacherous su...      R   \n",
       "...                                                 ...    ...   \n",
       "5968  Directed by Clint Eastwood, the mysterious dra...      R   \n",
       "6002  Abel Ferrara's cult crime drama Bad Lieutenant...      R   \n",
       "6212  Filmed in the California desert on Super 16mm,...     NR   \n",
       "6285  Frankie is a Los Angeles drug dealer. He comes...      R   \n",
       "6303  Texas brothers--Toby (Chris Pine), and Tanner ...      R   \n",
       "\n",
       "                           genre         director   \n",
       "10    Drama|Mystery and Suspense   Barry Levinson  \\\n",
       "11    Drama|Mystery and Suspense   Barry Levinson   \n",
       "12    Drama|Mystery and Suspense   Barry Levinson   \n",
       "13    Drama|Mystery and Suspense   Barry Levinson   \n",
       "14    Drama|Mystery and Suspense   Barry Levinson   \n",
       "...                          ...              ...   \n",
       "5968  Drama|Mystery and Suspense   Clint Eastwood   \n",
       "6002  Drama|Mystery and Suspense    Werner Herzog   \n",
       "6212  Drama|Mystery and Suspense        Oren Shai   \n",
       "6285  Drama|Mystery and Suspense  Nick Cassavetes   \n",
       "6303  Drama|Mystery and Suspense  David Mackenzie   \n",
       "\n",
       "                               writer  theater_date   dvd_date currency   \n",
       "10    Paul Attanasio|Michael Crichton   Dec 9, 1994 1997-08-27      NaN  \\\n",
       "11    Paul Attanasio|Michael Crichton   Dec 9, 1994 1997-08-27      NaN   \n",
       "12    Paul Attanasio|Michael Crichton   Dec 9, 1994 1997-08-27      NaN   \n",
       "13    Paul Attanasio|Michael Crichton   Dec 9, 1994 1997-08-27      NaN   \n",
       "14    Paul Attanasio|Michael Crichton   Dec 9, 1994 1997-08-27      NaN   \n",
       "...                               ...           ...        ...      ...   \n",
       "5968                  Brian Helgeland   Oct 8, 2003 2004-06-08        $   \n",
       "6002                              NaN  Nov 20, 2009 2010-04-06        $   \n",
       "6212          Oren Shai|Webb Wilcoxen  Oct 28, 2016 2016-12-06      NaN   \n",
       "6285                  Nick Cassavetes  Jan 12, 2007 2007-05-01        $   \n",
       "6303                  Taylor Sheridan  Aug 12, 2016 2016-11-22        $   \n",
       "\n",
       "      box_office      runtime               studio   \n",
       "10           NaN  128 minutes                  NaN  \\\n",
       "11           NaN  128 minutes                  NaN   \n",
       "12           NaN  128 minutes                  NaN   \n",
       "13           NaN  128 minutes                  NaN   \n",
       "14           NaN  128 minutes                  NaN   \n",
       "...          ...          ...                  ...   \n",
       "5968  88,800,000  137 minutes                   WB   \n",
       "6002   1,616,556  121 minutes  First Look Pictures   \n",
       "6212         NaN   88 minutes        Rocking Films   \n",
       "6285  15,133,185  118 minutes    Universal Studios   \n",
       "6303  26,973,524  102 minutes              Film 44   \n",
       "\n",
       "                     first_genre release_month  domestic_gross foreign_gross   \n",
       "10    Drama|Mystery and Suspense        August         96900.0       3300000  \\\n",
       "11    Drama|Mystery and Suspense        August         70600.0       3300000   \n",
       "12    Drama|Mystery and Suspense        August             NaN       4000000   \n",
       "13    Drama|Mystery and Suspense        August          7100.0           NaN   \n",
       "14    Drama|Mystery and Suspense        August             NaN     122000000   \n",
       "...                          ...           ...             ...           ...   \n",
       "5968  Drama|Mystery and Suspense          June       3200000.0           NaN   \n",
       "6002  Drama|Mystery and Suspense         April             NaN           NaN   \n",
       "6212  Drama|Mystery and Suspense      December             NaN           NaN   \n",
       "6285  Drama|Mystery and Suspense           May             NaN           NaN   \n",
       "6303  Drama|Mystery and Suspense      November             NaN           NaN   \n",
       "\n",
       "        year  \n",
       "10    2010.0  \n",
       "11    2011.0  \n",
       "12    2012.0  \n",
       "13    2014.0  \n",
       "14    2017.0  \n",
       "...      ...  \n",
       "5968  2018.0  \n",
       "6002     NaN  \n",
       "6212     NaN  \n",
       "6285     NaN  \n",
       "6303     NaN  \n",
       "\n",
       "[531 rows x 16 columns]"
      ]
     },
     "execution_count": 53,
     "metadata": {},
     "output_type": "execute_result"
    }
   ],
   "source": [
    "#filtering the dataframe based on Drama|Mystery and Suspense which is the top genre\n",
    "\n",
    "DramaMS=merged_df.loc[merged_df['genre'] == \"Drama|Mystery and Suspense\"]\n",
    "DramaMS"
   ]
  },
  {
   "cell_type": "code",
   "execution_count": 54,
   "metadata": {},
   "outputs": [
    {
     "data": {
      "text/plain": [
       "director\n",
       "Clint Eastwood                   141\n",
       "Gary Wheeler                     136\n",
       "Joseph Ruben                      10\n",
       "Gary Fleder                        6\n",
       "Mike Figgis                        6\n",
       "Barry Levinson                     5\n",
       "Lewis Gilbert                      5\n",
       "John Badham                        5\n",
       "Curtis Hanson                      5\n",
       "Shawn Christensen                  5\n",
       "William Beaudine                   5\n",
       "Andy Wolk                          5\n",
       "Andrew Chapman                     5\n",
       "Bob Rafelson|George Bud Davis      5\n",
       "Robert Foster                      5\n",
       "Michael Fields                     5\n",
       "Andrew Birkin                      5\n",
       "Spike Lee                          5\n",
       "Peter Hyams                        5\n",
       "James Cox                          5\n",
       "Steven Hilliard Stern              5\n",
       "Gordon Willis                      5\n",
       "Irving Lerner                      5\n",
       "Fritz Lang                         5\n",
       "Paul Wendkos                       5\n",
       "Uli Edel                           5\n",
       "Nathan Hope                        5\n",
       "Mike Barker                        5\n",
       "Sidney Gilliat                     5\n",
       "John Sturges                       5\n",
       "David Mamet                        5\n",
       "Gordon Hessler                     5\n",
       "Sam Peckinpah                      5\n",
       "Boaz Yakin                         5\n",
       "Yves Simoneau                      5\n",
       "Neil Jordan                        5\n",
       "Bruce Robinson                     5\n",
       "Larry Elikann                      5\n",
       "Nicolas Roeg                       5\n",
       "Steven Spielberg                   5\n",
       "John Farrow                        5\n",
       "Michael Apted                      5\n",
       "Bryan Singer                       3\n",
       "David Koepp                        1\n",
       "Nick Cassavetes                    1\n",
       "Oren Shai                          1\n",
       "Werner Herzog                      1\n",
       "Anton Corbijn                      1\n",
       "Will Canon                         1\n",
       "Nicholas Racz                      1\n",
       "Perry Moore|Hunter Hill            1\n",
       "Craig Bolotin                      1\n",
       "Morten Tyldum                      1\n",
       "David Fincher                      1\n",
       "Simon West                         1\n",
       "Paul Thomas Anderson               1\n",
       "David Mackenzie                    1\n",
       "Name: count, dtype: int64"
      ]
     },
     "execution_count": 54,
     "metadata": {},
     "output_type": "execute_result"
    }
   ],
   "source": [
    "#filtering out the most common director in the Drama|Mystery and Suspense genre\n",
    "\n",
    "DramaMS['director'].value_counts()"
   ]
  },
  {
   "cell_type": "code",
   "execution_count": 55,
   "metadata": {},
   "outputs": [
    {
     "data": {
      "text/plain": [
       "release_month\n",
       "June         152\n",
       "February      31\n",
       "March         30\n",
       "September     20\n",
       "August        16\n",
       "May           15\n",
       "December      12\n",
       "April         12\n",
       "November      12\n",
       "July           5\n",
       "January        5\n",
       "October        5\n",
       "Name: count, dtype: int64"
      ]
     },
     "execution_count": 55,
     "metadata": {},
     "output_type": "execute_result"
    }
   ],
   "source": [
    "DramaMS['release_month'].value_counts()"
   ]
  },
  {
   "cell_type": "code",
   "execution_count": 56,
   "metadata": {},
   "outputs": [
    {
     "data": {
      "text/plain": [
       "<Axes: >"
      ]
     },
     "execution_count": 56,
     "metadata": {},
     "output_type": "execute_result"
    },
    {
     "data": {
      "image/png": "[encoded data removed]",
      "text/plain": [
       "<Figure size 1100x1200 with 1 Axes>"
      ]
     },
     "metadata": {},
     "output_type": "display_data"
    }
   ],
   "source": [
    "# Visualizing MONTH RELEASED using histogram\n",
    "DramaMS['release_month'].hist(bins=12, figsize=(11,12), color=('blue'))"
   ]
  },
  {
   "attachments": {},
   "cell_type": "markdown",
   "metadata": {},
   "source": [
    "Most Drama|Mystery and Suspense movies were released in the month of june"
   ]
  },
  {
   "cell_type": "code",
   "execution_count": 57,
   "metadata": {},
   "outputs": [
    {
     "data": {
      "text/plain": [
       "rating\n",
       "R        293\n",
       "PG-13    152\n",
       "NR        76\n",
       "G          5\n",
       "PG         5\n",
       "Name: count, dtype: int64"
      ]
     },
     "execution_count": 57,
     "metadata": {},
     "output_type": "execute_result"
    }
   ],
   "source": [
    "DramaMS['rating'].value_counts()"
   ]
  },
  {
   "cell_type": "code",
   "execution_count": null,
   "metadata": {},
   "outputs": [],
   "source": []
  }
 ],
 "metadata": {
  "kernelspec": {
   "display_name": "Python (learn-env)",
   "language": "python",
   "name": "learn-env"
  },
  "language_info": {
   "codemirror_mode": {
    "name": "ipython",
    "version": 3
   },
   "file_extension": ".py",
   "mimetype": "text/x-python",
   "name": "python",
   "nbconvert_exporter": "python",
   "pygments_lexer": "ipython3",
   "version": "3.10.11"
  }
 },
 "nbformat": 4,
 "nbformat_minor": 2
}
